{
 "cells": [
  {
   "cell_type": "markdown",
   "id": "de15b7e9",
   "metadata": {},
   "source": [
    "# Quantifying the World\n",
    "## Case Study :4\n",
    "### Anish Bhandari"
   ]
  },
  {
   "cell_type": "code",
   "execution_count": 3,
   "id": "90693c53",
   "metadata": {},
   "outputs": [
    {
     "name": "stdout",
     "output_type": "stream",
     "text": [
      "      Attr1    Attr2    Attr3   Attr4    Attr5    Attr6     Attr7    Attr8  \\\n",
      "0  0.200550  0.37951  0.39641  2.0472  32.3510  0.38825  0.249760  1.33050   \n",
      "1  0.209120  0.49988  0.47225  1.9447  14.7860  0.00000  0.258340  0.99601   \n",
      "2  0.248660  0.69592  0.26713  1.5548  -1.1523  0.00000  0.309060  0.43695   \n",
      "3  0.081483  0.30734  0.45879  2.4928  51.9520  0.14988  0.092704  1.86610   \n",
      "4  0.187320  0.61323  0.22960  1.4063  -7.3128  0.18732  0.187320  0.63070   \n",
      "\n",
      "    Attr9   Attr10  ...    Attr56   Attr57   Attr58    Attr59  Attr60  Attr61  \\\n",
      "0  1.1389  0.50494  ...  0.121960  0.39718  0.87804  0.001924  8.4160  5.1372   \n",
      "1  1.6996  0.49788  ...  0.121300  0.42002  0.85300  0.000000  4.1486  3.2732   \n",
      "2  1.3090  0.30408  ...  0.241140  0.81774  0.76599  0.694840  4.9909  3.9510   \n",
      "3  1.0571  0.57353  ...  0.054015  0.14207  0.94598  0.000000  4.5746  3.6147   \n",
      "4  1.1559  0.38677  ...  0.134850  0.48431  0.86515  0.124440  6.3985  4.3158   \n",
      "\n",
      "    Attr62  Attr63   Attr64  class  \n",
      "0   82.658  4.4158   7.4277      0  \n",
      "1  107.350  3.4000  60.9870      0  \n",
      "2  134.270  2.7185   5.2078      0  \n",
      "3   86.435  4.2228   5.5497      0  \n",
      "4  127.210  2.8692   7.8980      0  \n",
      "\n",
      "[5 rows x 65 columns]\n"
     ]
    }
   ],
   "source": [
    "# Read 1st year\n",
    "from scipy.io import arff\n",
    "import pandas as pd\n",
    "\n",
    "# Load the .arff file\n",
    "data, meta = arff.loadarff('C:\\\\Users\\\\bhand\\\\OneDrive\\\\Desktop\\\\Quantifying the World\\\\Case Studies\\\\Case Study 4 - Random Tree and XGBoost\\\\1year.arff')\n",
    "\n",
    "# Convert to pandas DataFrame for easier manipulation\n",
    "df1 = pd.DataFrame(data)\n",
    "df1['class'] = df1['class'].apply(lambda x: x.decode('utf-8'))\n",
    "\n",
    "print(df1.head())\n"
   ]
  },
  {
   "cell_type": "code",
   "execution_count": 4,
   "id": "f336792b",
   "metadata": {},
   "outputs": [],
   "source": [
    "# Read year 2 to 5\n",
    "\n",
    "\n",
    "# Load the .arff file\n",
    "data2, meta = arff.loadarff('C:\\\\Users\\\\bhand\\\\OneDrive\\\\Desktop\\\\Quantifying the World\\\\Case Studies\\\\Case Study 4 - Random Tree and XGBoost\\\\2year.arff')\n",
    "data3, meta = arff.loadarff('C:\\\\Users\\\\bhand\\\\OneDrive\\\\Desktop\\\\Quantifying the World\\\\Case Studies\\\\Case Study 4 - Random Tree and XGBoost\\\\3year.arff')\n",
    "data4, meta = arff.loadarff('C:\\\\Users\\\\bhand\\\\OneDrive\\\\Desktop\\\\Quantifying the World\\\\Case Studies\\\\Case Study 4 - Random Tree and XGBoost\\\\4year.arff')\n",
    "data5, meta = arff.loadarff('C:\\\\Users\\\\bhand\\\\OneDrive\\\\Desktop\\\\Quantifying the World\\\\Case Studies\\\\Case Study 4 - Random Tree and XGBoost\\\\5year.arff')\n",
    "\n",
    "# Convert to pandas DataFrame for easier manipulation\n",
    "df2 = pd.DataFrame(data2)\n",
    "df3 = pd.DataFrame(data3)\n",
    "df4 = pd.DataFrame(data4)\n",
    "df5 = pd.DataFrame(data5)\n",
    "\n",
    "df2['class'] = df2['class'].apply(lambda x: x.decode('utf-8'))\n",
    "df3['class'] = df3['class'].apply(lambda x: x.decode('utf-8'))\n",
    "df4['class'] = df4['class'].apply(lambda x: x.decode('utf-8'))\n",
    "df5['class'] = df5['class'].apply(lambda x: x.decode('utf-8'))"
   ]
  },
  {
   "cell_type": "code",
   "execution_count": 8,
   "id": "ab67ea0a",
   "metadata": {},
   "outputs": [
    {
     "data": {
      "text/html": [
       "<div>\n",
       "<style scoped>\n",
       "    .dataframe tbody tr th:only-of-type {\n",
       "        vertical-align: middle;\n",
       "    }\n",
       "\n",
       "    .dataframe tbody tr th {\n",
       "        vertical-align: top;\n",
       "    }\n",
       "\n",
       "    .dataframe thead th {\n",
       "        text-align: right;\n",
       "    }\n",
       "</style>\n",
       "<table border=\"1\" class=\"dataframe\">\n",
       "  <thead>\n",
       "    <tr style=\"text-align: right;\">\n",
       "      <th></th>\n",
       "      <th>Attr1</th>\n",
       "      <th>Attr2</th>\n",
       "      <th>Attr3</th>\n",
       "      <th>Attr4</th>\n",
       "      <th>Attr5</th>\n",
       "      <th>Attr6</th>\n",
       "      <th>Attr7</th>\n",
       "      <th>Attr8</th>\n",
       "      <th>Attr9</th>\n",
       "      <th>Attr10</th>\n",
       "      <th>...</th>\n",
       "      <th>Attr56</th>\n",
       "      <th>Attr57</th>\n",
       "      <th>Attr58</th>\n",
       "      <th>Attr59</th>\n",
       "      <th>Attr60</th>\n",
       "      <th>Attr61</th>\n",
       "      <th>Attr62</th>\n",
       "      <th>Attr63</th>\n",
       "      <th>Attr64</th>\n",
       "      <th>class</th>\n",
       "    </tr>\n",
       "  </thead>\n",
       "  <tbody>\n",
       "    <tr>\n",
       "      <th>0</th>\n",
       "      <td>0.088238</td>\n",
       "      <td>0.55472</td>\n",
       "      <td>0.01134</td>\n",
       "      <td>1.0205</td>\n",
       "      <td>-66.5200</td>\n",
       "      <td>0.342040</td>\n",
       "      <td>0.109490</td>\n",
       "      <td>0.57752</td>\n",
       "      <td>1.0881</td>\n",
       "      <td>0.32036</td>\n",
       "      <td>...</td>\n",
       "      <td>0.080955</td>\n",
       "      <td>0.275430</td>\n",
       "      <td>0.91905</td>\n",
       "      <td>0.002024</td>\n",
       "      <td>7.2711</td>\n",
       "      <td>4.7343</td>\n",
       "      <td>142.760</td>\n",
       "      <td>2.5568</td>\n",
       "      <td>3.2597</td>\n",
       "      <td>0</td>\n",
       "    </tr>\n",
       "    <tr>\n",
       "      <th>1</th>\n",
       "      <td>-0.006202</td>\n",
       "      <td>0.48465</td>\n",
       "      <td>0.23298</td>\n",
       "      <td>1.5998</td>\n",
       "      <td>6.1825</td>\n",
       "      <td>0.000000</td>\n",
       "      <td>-0.006202</td>\n",
       "      <td>1.06340</td>\n",
       "      <td>1.2757</td>\n",
       "      <td>0.51535</td>\n",
       "      <td>...</td>\n",
       "      <td>-0.028591</td>\n",
       "      <td>-0.012035</td>\n",
       "      <td>1.00470</td>\n",
       "      <td>0.152220</td>\n",
       "      <td>6.0911</td>\n",
       "      <td>3.2749</td>\n",
       "      <td>111.140</td>\n",
       "      <td>3.2841</td>\n",
       "      <td>3.3700</td>\n",
       "      <td>0</td>\n",
       "    </tr>\n",
       "    <tr>\n",
       "      <th>2</th>\n",
       "      <td>0.130240</td>\n",
       "      <td>0.22142</td>\n",
       "      <td>0.57751</td>\n",
       "      <td>3.6082</td>\n",
       "      <td>120.0400</td>\n",
       "      <td>0.187640</td>\n",
       "      <td>0.162120</td>\n",
       "      <td>3.05900</td>\n",
       "      <td>1.1415</td>\n",
       "      <td>0.67731</td>\n",
       "      <td>...</td>\n",
       "      <td>0.123960</td>\n",
       "      <td>0.192290</td>\n",
       "      <td>0.87604</td>\n",
       "      <td>0.000000</td>\n",
       "      <td>8.7934</td>\n",
       "      <td>2.9870</td>\n",
       "      <td>71.531</td>\n",
       "      <td>5.1027</td>\n",
       "      <td>5.6188</td>\n",
       "      <td>0</td>\n",
       "    </tr>\n",
       "    <tr>\n",
       "      <th>3</th>\n",
       "      <td>-0.089951</td>\n",
       "      <td>0.88700</td>\n",
       "      <td>0.26927</td>\n",
       "      <td>1.5222</td>\n",
       "      <td>-55.9920</td>\n",
       "      <td>-0.073957</td>\n",
       "      <td>-0.089951</td>\n",
       "      <td>0.12740</td>\n",
       "      <td>1.2754</td>\n",
       "      <td>0.11300</td>\n",
       "      <td>...</td>\n",
       "      <td>0.418840</td>\n",
       "      <td>-0.796020</td>\n",
       "      <td>0.59074</td>\n",
       "      <td>2.878700</td>\n",
       "      <td>7.6524</td>\n",
       "      <td>3.3302</td>\n",
       "      <td>147.560</td>\n",
       "      <td>2.4735</td>\n",
       "      <td>5.9299</td>\n",
       "      <td>0</td>\n",
       "    </tr>\n",
       "    <tr>\n",
       "      <th>4</th>\n",
       "      <td>0.048179</td>\n",
       "      <td>0.55041</td>\n",
       "      <td>0.10765</td>\n",
       "      <td>1.2437</td>\n",
       "      <td>-22.9590</td>\n",
       "      <td>0.000000</td>\n",
       "      <td>0.059280</td>\n",
       "      <td>0.81682</td>\n",
       "      <td>1.5150</td>\n",
       "      <td>0.44959</td>\n",
       "      <td>...</td>\n",
       "      <td>0.240400</td>\n",
       "      <td>0.107160</td>\n",
       "      <td>0.77048</td>\n",
       "      <td>0.139380</td>\n",
       "      <td>10.1180</td>\n",
       "      <td>4.0950</td>\n",
       "      <td>106.430</td>\n",
       "      <td>3.4294</td>\n",
       "      <td>3.3622</td>\n",
       "      <td>0</td>\n",
       "    </tr>\n",
       "  </tbody>\n",
       "</table>\n",
       "<p>5 rows × 65 columns</p>\n",
       "</div>"
      ],
      "text/plain": [
       "      Attr1    Attr2    Attr3   Attr4     Attr5     Attr6     Attr7    Attr8  \\\n",
       "0  0.088238  0.55472  0.01134  1.0205  -66.5200  0.342040  0.109490  0.57752   \n",
       "1 -0.006202  0.48465  0.23298  1.5998    6.1825  0.000000 -0.006202  1.06340   \n",
       "2  0.130240  0.22142  0.57751  3.6082  120.0400  0.187640  0.162120  3.05900   \n",
       "3 -0.089951  0.88700  0.26927  1.5222  -55.9920 -0.073957 -0.089951  0.12740   \n",
       "4  0.048179  0.55041  0.10765  1.2437  -22.9590  0.000000  0.059280  0.81682   \n",
       "\n",
       "    Attr9   Attr10  ...    Attr56    Attr57   Attr58    Attr59   Attr60  \\\n",
       "0  1.0881  0.32036  ...  0.080955  0.275430  0.91905  0.002024   7.2711   \n",
       "1  1.2757  0.51535  ... -0.028591 -0.012035  1.00470  0.152220   6.0911   \n",
       "2  1.1415  0.67731  ...  0.123960  0.192290  0.87604  0.000000   8.7934   \n",
       "3  1.2754  0.11300  ...  0.418840 -0.796020  0.59074  2.878700   7.6524   \n",
       "4  1.5150  0.44959  ...  0.240400  0.107160  0.77048  0.139380  10.1180   \n",
       "\n",
       "   Attr61   Attr62  Attr63  Attr64  class  \n",
       "0  4.7343  142.760  2.5568  3.2597      0  \n",
       "1  3.2749  111.140  3.2841  3.3700      0  \n",
       "2  2.9870   71.531  5.1027  5.6188      0  \n",
       "3  3.3302  147.560  2.4735  5.9299      0  \n",
       "4  4.0950  106.430  3.4294  3.3622      0  \n",
       "\n",
       "[5 rows x 65 columns]"
      ]
     },
     "execution_count": 8,
     "metadata": {},
     "output_type": "execute_result"
    }
   ],
   "source": [
    "df5.head()"
   ]
  },
  {
   "cell_type": "code",
   "execution_count": 9,
   "id": "3e4c05f1",
   "metadata": {},
   "outputs": [
    {
     "name": "stdout",
     "output_type": "stream",
     "text": [
      "(7027, 65)\n",
      "(10173, 65)\n",
      "(10503, 65)\n",
      "(9792, 65)\n",
      "(5910, 65)\n"
     ]
    }
   ],
   "source": [
    "print(df1.shape)\n",
    "print(df2.shape)\n",
    "print(df3.shape)\n",
    "print(df4.shape)\n",
    "print(df5.shape)"
   ]
  },
  {
   "cell_type": "code",
   "execution_count": 15,
   "id": "8b8f3d40",
   "metadata": {},
   "outputs": [
    {
     "name": "stderr",
     "output_type": "stream",
     "text": [
      "No artists with labels found to put in legend.  Note that artists whose label start with an underscore are ignored when legend() is called with no argument.\n"
     ]
    },
    {
     "data": {
      "image/png": "[encoded data removed]",
      "text/plain": [
       "<Figure size 640x480 with 1 Axes>"
      ]
     },
     "metadata": {},
     "output_type": "display_data"
    }
   ],
   "source": [
    "import matplotlib.pyplot as plt\n",
    "\n",
    "\n",
    "datasets = [df1, df2, df3, df4, df5]\n",
    "dataset_names = ['Year 1', 'Year 2', 'Year 3', 'Year 4', 'Year 5']\n",
    "\n",
    "# Extract rows and columns in one step\n",
    "shapes = [(df.shape[0], df.shape[1]) for df in datasets]\n",
    "\n",
    "# Plot rows and columns using a simple bar plot\n",
    "plt.bar(dataset_names, [s[0] for s in shapes], alpha=0.7)\n",
    "plt.xlabel('Datasets')\n",
    "plt.ylabel('Count')\n",
    "plt.title('Rows by Year')\n",
    "plt.legend()\n",
    "plt.show()\n"
   ]
  },
  {
   "cell_type": "code",
   "execution_count": 17,
   "id": "6f167636",
   "metadata": {},
   "outputs": [
    {
     "name": "stdout",
     "output_type": "stream",
     "text": [
      "(43405, 65)\n",
      "      Attr1    Attr2    Attr3   Attr4    Attr5    Attr6     Attr7    Attr8  \\\n",
      "0  0.200550  0.37951  0.39641  2.0472  32.3510  0.38825  0.249760  1.33050   \n",
      "1  0.209120  0.49988  0.47225  1.9447  14.7860  0.00000  0.258340  0.99601   \n",
      "2  0.248660  0.69592  0.26713  1.5548  -1.1523  0.00000  0.309060  0.43695   \n",
      "3  0.081483  0.30734  0.45879  2.4928  51.9520  0.14988  0.092704  1.86610   \n",
      "4  0.187320  0.61323  0.22960  1.4063  -7.3128  0.18732  0.187320  0.63070   \n",
      "\n",
      "    Attr9   Attr10  ...    Attr56   Attr57   Attr58    Attr59  Attr60  Attr61  \\\n",
      "0  1.1389  0.50494  ...  0.121960  0.39718  0.87804  0.001924  8.4160  5.1372   \n",
      "1  1.6996  0.49788  ...  0.121300  0.42002  0.85300  0.000000  4.1486  3.2732   \n",
      "2  1.3090  0.30408  ...  0.241140  0.81774  0.76599  0.694840  4.9909  3.9510   \n",
      "3  1.0571  0.57353  ...  0.054015  0.14207  0.94598  0.000000  4.5746  3.6147   \n",
      "4  1.1559  0.38677  ...  0.134850  0.48431  0.86515  0.124440  6.3985  4.3158   \n",
      "\n",
      "    Attr62  Attr63   Attr64  class  \n",
      "0   82.658  4.4158   7.4277      0  \n",
      "1  107.350  3.4000  60.9870      0  \n",
      "2  134.270  2.7185   5.2078      0  \n",
      "3   86.435  4.2228   5.5497      0  \n",
      "4  127.210  2.8692   7.8980      0  \n",
      "\n",
      "[5 rows x 65 columns]\n"
     ]
    }
   ],
   "source": [
    "import pandas as pd\n",
    "\n",
    "\n",
    "df = pd.concat([df1, df2, df3, df4, df5], axis=0)\n",
    "\n",
    "print(df.shape)\n",
    "print(df.head())"
   ]
  },
  {
   "cell_type": "code",
   "execution_count": 19,
   "id": "85ac817e",
   "metadata": {},
   "outputs": [
    {
     "name": "stdout",
     "output_type": "stream",
     "text": [
      "Columns with missing data:\n",
      "Attr1        8\n",
      "Attr2        8\n",
      "Attr3        8\n",
      "Attr4      134\n",
      "Attr5       89\n",
      "          ... \n",
      "Attr60    2152\n",
      "Attr61     102\n",
      "Attr62     127\n",
      "Attr63     134\n",
      "Attr64     812\n",
      "Length: 64, dtype: int64\n"
     ]
    }
   ],
   "source": [
    "# columns with missing data\n",
    "missing_data = df.isnull().sum()\n",
    "\n",
    "#  columns with missing values\n",
    "missing_columns = missing_data[missing_data > 0]\n",
    "\n",
    "\n",
    "print(\"Columns with missing data:\")\n",
    "print(missing_columns)\n",
    "\n"
   ]
  },
  {
   "cell_type": "code",
   "execution_count": 20,
   "id": "464bc1e5",
   "metadata": {},
   "outputs": [
    {
     "data": {
      "image/png": "[encoded data removed]",
      "text/plain": [
       "<Figure size 1000x600 with 1 Axes>"
      ]
     },
     "metadata": {},
     "output_type": "display_data"
    }
   ],
   "source": [
    "import matplotlib.pyplot as plt\n",
    "\n",
    "# Plot the columns with missing data\n",
    "plt.figure(figsize=(10, 6))\n",
    "missing_columns.plot(kind='bar', color='skyblue')\n",
    "\n",
    "# Add labels and title\n",
    "plt.title('Number of Missing Values per Column')\n",
    "plt.xlabel('Columns')\n",
    "plt.ylabel('Number of Missing Values')\n",
    "\n",
    "# Show the plot\n",
    "plt.show()\n"
   ]
  },
  {
   "cell_type": "code",
   "execution_count": 21,
   "id": "151a2d6e",
   "metadata": {},
   "outputs": [
    {
     "name": "stdout",
     "output_type": "stream",
     "text": [
      "Attr1     0\n",
      "Attr2     0\n",
      "Attr3     0\n",
      "Attr4     0\n",
      "Attr5     0\n",
      "         ..\n",
      "Attr61    0\n",
      "Attr62    0\n",
      "Attr63    0\n",
      "Attr64    0\n",
      "class     0\n",
      "Length: 65, dtype: int64\n"
     ]
    }
   ],
   "source": [
    "# Impute missing values with the median for all columns in the DataFrame\n",
    "df.fillna(df.median(), inplace=True)\n",
    "\n",
    "# Check if any missing values remain\n",
    "print(df.isnull().sum())\n"
   ]
  },
  {
   "cell_type": "code",
   "execution_count": 26,
   "id": "16f1a8e8",
   "metadata": {},
   "outputs": [
    {
     "data": {
      "image/png": "[encoded data removed]",
      "text/plain": [
       "<Figure size 1000x600 with 1 Axes>"
      ]
     },
     "metadata": {},
     "output_type": "display_data"
    }
   ],
   "source": [
    "import matplotlib.pyplot as plt\n",
    "\n",
    "# Check for missing values again after imputation\n",
    "missing_data_after = df.isnull().sum()\n",
    "\n",
    "# Plot the number of missing values per column (should all be zero)\n",
    "plt.figure(figsize=(10, 6))\n",
    "missing_data_after.plot(kind='bar', color='green')\n",
    "plt.title('Number of Missing Values per Column After Imputation')\n",
    "plt.xlabel('Columns')\n",
    "plt.ylabel('Number of Missing Values')\n",
    "plt.show()\n"
   ]
  },
  {
   "cell_type": "code",
   "execution_count": 28,
   "id": "0e1df277",
   "metadata": {},
   "outputs": [
    {
     "data": {
      "image/png": "[encoded data removed]",
      "text/plain": [
       "<Figure size 600x400 with 1 Axes>"
      ]
     },
     "metadata": {},
     "output_type": "display_data"
    }
   ],
   "source": [
    "import matplotlib.pyplot as plt\n",
    "\n",
    "# Plot the distribution of the class\n",
    "plt.figure(figsize=(6, 4))\n",
    "df['class'].value_counts().plot(kind='bar', color='skyblue')\n",
    "\n",
    "plt.title('Distribution of Bankruptcy Class')\n",
    "plt.xlabel('Bankruptcy Class')\n",
    "plt.ylabel('Count')\n",
    "\n",
    "# Show the plot\n",
    "plt.show()\n"
   ]
  },
  {
   "cell_type": "code",
   "execution_count": 31,
   "id": "aad829ce",
   "metadata": {},
   "outputs": [
    {
     "name": "stdout",
     "output_type": "stream",
     "text": [
      "Subset size: (8681, 65)\n"
     ]
    }
   ],
   "source": [
    "from sklearn.model_selection import train_test_split\n",
    "\n",
    "# Create a smaller subset of the data (e.g., 20% of the data)\n",
    "df_subset, _ = train_test_split(df, test_size=0.8, random_state=42, stratify=df.iloc[:, -1])\n",
    "\n",
    "# Verify the size of the subset\n",
    "print(f\"Subset size: {df_subset.shape}\")\n",
    "\n"
   ]
  },
  {
   "cell_type": "code",
   "execution_count": 32,
   "id": "c4943230",
   "metadata": {},
   "outputs": [
    {
     "name": "stdout",
     "output_type": "stream",
     "text": [
      "Fitting 5 folds for each of 20 candidates, totalling 100 fits\n"
     ]
    },
    {
     "data": {
      "text/html": [
       "<style>#sk-container-id-1 {color: black;}#sk-container-id-1 pre{padding: 0;}#sk-container-id-1 div.sk-toggleable {background-color: white;}#sk-container-id-1 label.sk-toggleable__label {cursor: pointer;display: block;width: 100%;margin-bottom: 0;padding: 0.3em;box-sizing: border-box;text-align: center;}#sk-container-id-1 label.sk-toggleable__label-arrow:before {content: \"▸\";float: left;margin-right: 0.25em;color: #696969;}#sk-container-id-1 label.sk-toggleable__label-arrow:hover:before {color: black;}#sk-container-id-1 div.sk-estimator:hover label.sk-toggleable__label-arrow:before {color: black;}#sk-container-id-1 div.sk-toggleable__content {max-height: 0;max-width: 0;overflow: hidden;text-align: left;background-color: #f0f8ff;}#sk-container-id-1 div.sk-toggleable__content pre {margin: 0.2em;color: black;border-radius: 0.25em;background-color: #f0f8ff;}#sk-container-id-1 input.sk-toggleable__control:checked~div.sk-toggleable__content {max-height: 200px;max-width: 100%;overflow: auto;}#sk-container-id-1 input.sk-toggleable__control:checked~label.sk-toggleable__label-arrow:before {content: \"▾\";}#sk-container-id-1 div.sk-estimator input.sk-toggleable__control:checked~label.sk-toggleable__label {background-color: #d4ebff;}#sk-container-id-1 div.sk-label input.sk-toggleable__control:checked~label.sk-toggleable__label {background-color: #d4ebff;}#sk-container-id-1 input.sk-hidden--visually {border: 0;clip: rect(1px 1px 1px 1px);clip: rect(1px, 1px, 1px, 1px);height: 1px;margin: -1px;overflow: hidden;padding: 0;position: absolute;width: 1px;}#sk-container-id-1 div.sk-estimator {font-family: monospace;background-color: #f0f8ff;border: 1px dotted black;border-radius: 0.25em;box-sizing: border-box;margin-bottom: 0.5em;}#sk-container-id-1 div.sk-estimator:hover {background-color: #d4ebff;}#sk-container-id-1 div.sk-parallel-item::after {content: \"\";width: 100%;border-bottom: 1px solid gray;flex-grow: 1;}#sk-container-id-1 div.sk-label:hover label.sk-toggleable__label {background-color: #d4ebff;}#sk-container-id-1 div.sk-serial::before {content: \"\";position: absolute;border-left: 1px solid gray;box-sizing: border-box;top: 0;bottom: 0;left: 50%;z-index: 0;}#sk-container-id-1 div.sk-serial {display: flex;flex-direction: column;align-items: center;background-color: white;padding-right: 0.2em;padding-left: 0.2em;position: relative;}#sk-container-id-1 div.sk-item {position: relative;z-index: 1;}#sk-container-id-1 div.sk-parallel {display: flex;align-items: stretch;justify-content: center;background-color: white;position: relative;}#sk-container-id-1 div.sk-item::before, #sk-container-id-1 div.sk-parallel-item::before {content: \"\";position: absolute;border-left: 1px solid gray;box-sizing: border-box;top: 0;bottom: 0;left: 50%;z-index: -1;}#sk-container-id-1 div.sk-parallel-item {display: flex;flex-direction: column;z-index: 1;position: relative;background-color: white;}#sk-container-id-1 div.sk-parallel-item:first-child::after {align-self: flex-end;width: 50%;}#sk-container-id-1 div.sk-parallel-item:last-child::after {align-self: flex-start;width: 50%;}#sk-container-id-1 div.sk-parallel-item:only-child::after {width: 0;}#sk-container-id-1 div.sk-dashed-wrapped {border: 1px dashed gray;margin: 0 0.4em 0.5em 0.4em;box-sizing: border-box;padding-bottom: 0.4em;background-color: white;}#sk-container-id-1 div.sk-label label {font-family: monospace;font-weight: bold;display: inline-block;line-height: 1.2em;}#sk-container-id-1 div.sk-label-container {text-align: center;}#sk-container-id-1 div.sk-container {/* jupyter's `normalize.less` sets `[hidden] { display: none; }` but bootstrap.min.css set `[hidden] { display: none !important; }` so we also need the `!important` here to be able to override the default hidden behavior on the sphinx rendered scikit-learn.org. See: https://github.com/scikit-learn/scikit-learn/issues/21755 */display: inline-block !important;position: relative;}#sk-container-id-1 div.sk-text-repr-fallback {display: none;}</style><div id=\"sk-container-id-1\" class=\"sk-top-container\"><div class=\"sk-text-repr-fallback\"><pre>RandomizedSearchCV(cv=5, estimator=RandomForestClassifier(random_state=42),\n",
       "                   n_iter=20, n_jobs=-1,\n",
       "                   param_distributions={&#x27;bootstrap&#x27;: [True],\n",
       "                                        &#x27;max_depth&#x27;: [10, 20, None],\n",
       "                                        &#x27;max_features&#x27;: [&#x27;sqrt&#x27;],\n",
       "                                        &#x27;min_samples_leaf&#x27;: [1, 2],\n",
       "                                        &#x27;min_samples_split&#x27;: [2, 5],\n",
       "                                        &#x27;n_estimators&#x27;: [100, 200]},\n",
       "                   random_state=42, verbose=2)</pre><b>In a Jupyter environment, please rerun this cell to show the HTML representation or trust the notebook. <br />On GitHub, the HTML representation is unable to render, please try loading this page with nbviewer.org.</b></div><div class=\"sk-container\" hidden><div class=\"sk-item sk-dashed-wrapped\"><div class=\"sk-label-container\"><div class=\"sk-label sk-toggleable\"><input class=\"sk-toggleable__control sk-hidden--visually\" id=\"sk-estimator-id-1\" type=\"checkbox\" ><label for=\"sk-estimator-id-1\" class=\"sk-toggleable__label sk-toggleable__label-arrow\">RandomizedSearchCV</label><div class=\"sk-toggleable__content\"><pre>RandomizedSearchCV(cv=5, estimator=RandomForestClassifier(random_state=42),\n",
       "                   n_iter=20, n_jobs=-1,\n",
       "                   param_distributions={&#x27;bootstrap&#x27;: [True],\n",
       "                                        &#x27;max_depth&#x27;: [10, 20, None],\n",
       "                                        &#x27;max_features&#x27;: [&#x27;sqrt&#x27;],\n",
       "                                        &#x27;min_samples_leaf&#x27;: [1, 2],\n",
       "                                        &#x27;min_samples_split&#x27;: [2, 5],\n",
       "                                        &#x27;n_estimators&#x27;: [100, 200]},\n",
       "                   random_state=42, verbose=2)</pre></div></div></div><div class=\"sk-parallel\"><div class=\"sk-parallel-item\"><div class=\"sk-item\"><div class=\"sk-label-container\"><div class=\"sk-label sk-toggleable\"><input class=\"sk-toggleable__control sk-hidden--visually\" id=\"sk-estimator-id-2\" type=\"checkbox\" ><label for=\"sk-estimator-id-2\" class=\"sk-toggleable__label sk-toggleable__label-arrow\">estimator: RandomForestClassifier</label><div class=\"sk-toggleable__content\"><pre>RandomForestClassifier(random_state=42)</pre></div></div></div><div class=\"sk-serial\"><div class=\"sk-item\"><div class=\"sk-estimator sk-toggleable\"><input class=\"sk-toggleable__control sk-hidden--visually\" id=\"sk-estimator-id-3\" type=\"checkbox\" ><label for=\"sk-estimator-id-3\" class=\"sk-toggleable__label sk-toggleable__label-arrow\">RandomForestClassifier</label><div class=\"sk-toggleable__content\"><pre>RandomForestClassifier(random_state=42)</pre></div></div></div></div></div></div></div></div></div></div>"
      ],
      "text/plain": [
       "RandomizedSearchCV(cv=5, estimator=RandomForestClassifier(random_state=42),\n",
       "                   n_iter=20, n_jobs=-1,\n",
       "                   param_distributions={'bootstrap': [True],\n",
       "                                        'max_depth': [10, 20, None],\n",
       "                                        'max_features': ['sqrt'],\n",
       "                                        'min_samples_leaf': [1, 2],\n",
       "                                        'min_samples_split': [2, 5],\n",
       "                                        'n_estimators': [100, 200]},\n",
       "                   random_state=42, verbose=2)"
      ]
     },
     "execution_count": 32,
     "metadata": {},
     "output_type": "execute_result"
    }
   ],
   "source": [
    "#  reduced parameter grid \n",
    "param_grid = {\n",
    "    'n_estimators': [100, 200],  \n",
    "    'max_depth': [10, 20, None],\n",
    "    'min_samples_split': [2, 5],\n",
    "    'min_samples_leaf': [1, 2],\n",
    "    'max_features': ['sqrt'],\n",
    "    'bootstrap': [True]\n",
    "}\n",
    "\n",
    "# RandomizedSearchCV on the smaller subset\n",
    "rf_random = RandomizedSearchCV(estimator=rf, param_distributions=param_grid,\n",
    "                               n_iter=20, cv=5, verbose=2, random_state=42, n_jobs=-1)\n",
    "\n",
    "# Fit the random search model on the subset\n",
    "rf_random.fit(df_subset.iloc[:, :-1], df_subset.iloc[:, -1])\n"
   ]
  },
  {
   "cell_type": "code",
   "execution_count": 42,
   "id": "f29e92da",
   "metadata": {},
   "outputs": [
    {
     "name": "stdout",
     "output_type": "stream",
     "text": [
      "[0 1]\n"
     ]
    }
   ],
   "source": [
    "# unique values in the 'class' column\n",
    "print(df['class'].unique())\n",
    "\n",
    "# Convert the 'class' column to integers\n",
    "df['class'] = df['class'].astype(int)\n"
   ]
  },
  {
   "cell_type": "code",
   "execution_count": 43,
   "id": "580e8916",
   "metadata": {},
   "outputs": [],
   "source": [
    "from sklearn.model_selection import train_test_split\n",
    "\n",
    "# Create a smaller subset of the data (e.g., 20% of the data)\n",
    "df_subset, _ = train_test_split(df, test_size=0.8, random_state=42, stratify=df['class'])\n",
    "\n",
    "# Separate features and target from the subset\n",
    "X_subset = df_subset.drop(columns=['class'])\n",
    "y_subset = df_subset['class']\n"
   ]
  },
  {
   "cell_type": "code",
   "execution_count": 48,
   "id": "4c9ccd7d",
   "metadata": {},
   "outputs": [
    {
     "name": "stdout",
     "output_type": "stream",
     "text": [
      "Fitting 5 folds for each of 20 candidates, totalling 100 fits\n"
     ]
    },
    {
     "data": {
      "text/html": [
       "<style>#sk-container-id-5 {color: black;}#sk-container-id-5 pre{padding: 0;}#sk-container-id-5 div.sk-toggleable {background-color: white;}#sk-container-id-5 label.sk-toggleable__label {cursor: pointer;display: block;width: 100%;margin-bottom: 0;padding: 0.3em;box-sizing: border-box;text-align: center;}#sk-container-id-5 label.sk-toggleable__label-arrow:before {content: \"▸\";float: left;margin-right: 0.25em;color: #696969;}#sk-container-id-5 label.sk-toggleable__label-arrow:hover:before {color: black;}#sk-container-id-5 div.sk-estimator:hover label.sk-toggleable__label-arrow:before {color: black;}#sk-container-id-5 div.sk-toggleable__content {max-height: 0;max-width: 0;overflow: hidden;text-align: left;background-color: #f0f8ff;}#sk-container-id-5 div.sk-toggleable__content pre {margin: 0.2em;color: black;border-radius: 0.25em;background-color: #f0f8ff;}#sk-container-id-5 input.sk-toggleable__control:checked~div.sk-toggleable__content {max-height: 200px;max-width: 100%;overflow: auto;}#sk-container-id-5 input.sk-toggleable__control:checked~label.sk-toggleable__label-arrow:before {content: \"▾\";}#sk-container-id-5 div.sk-estimator input.sk-toggleable__control:checked~label.sk-toggleable__label {background-color: #d4ebff;}#sk-container-id-5 div.sk-label input.sk-toggleable__control:checked~label.sk-toggleable__label {background-color: #d4ebff;}#sk-container-id-5 input.sk-hidden--visually {border: 0;clip: rect(1px 1px 1px 1px);clip: rect(1px, 1px, 1px, 1px);height: 1px;margin: -1px;overflow: hidden;padding: 0;position: absolute;width: 1px;}#sk-container-id-5 div.sk-estimator {font-family: monospace;background-color: #f0f8ff;border: 1px dotted black;border-radius: 0.25em;box-sizing: border-box;margin-bottom: 0.5em;}#sk-container-id-5 div.sk-estimator:hover {background-color: #d4ebff;}#sk-container-id-5 div.sk-parallel-item::after {content: \"\";width: 100%;border-bottom: 1px solid gray;flex-grow: 1;}#sk-container-id-5 div.sk-label:hover label.sk-toggleable__label {background-color: #d4ebff;}#sk-container-id-5 div.sk-serial::before {content: \"\";position: absolute;border-left: 1px solid gray;box-sizing: border-box;top: 0;bottom: 0;left: 50%;z-index: 0;}#sk-container-id-5 div.sk-serial {display: flex;flex-direction: column;align-items: center;background-color: white;padding-right: 0.2em;padding-left: 0.2em;position: relative;}#sk-container-id-5 div.sk-item {position: relative;z-index: 1;}#sk-container-id-5 div.sk-parallel {display: flex;align-items: stretch;justify-content: center;background-color: white;position: relative;}#sk-container-id-5 div.sk-item::before, #sk-container-id-5 div.sk-parallel-item::before {content: \"\";position: absolute;border-left: 1px solid gray;box-sizing: border-box;top: 0;bottom: 0;left: 50%;z-index: -1;}#sk-container-id-5 div.sk-parallel-item {display: flex;flex-direction: column;z-index: 1;position: relative;background-color: white;}#sk-container-id-5 div.sk-parallel-item:first-child::after {align-self: flex-end;width: 50%;}#sk-container-id-5 div.sk-parallel-item:last-child::after {align-self: flex-start;width: 50%;}#sk-container-id-5 div.sk-parallel-item:only-child::after {width: 0;}#sk-container-id-5 div.sk-dashed-wrapped {border: 1px dashed gray;margin: 0 0.4em 0.5em 0.4em;box-sizing: border-box;padding-bottom: 0.4em;background-color: white;}#sk-container-id-5 div.sk-label label {font-family: monospace;font-weight: bold;display: inline-block;line-height: 1.2em;}#sk-container-id-5 div.sk-label-container {text-align: center;}#sk-container-id-5 div.sk-container {/* jupyter's `normalize.less` sets `[hidden] { display: none; }` but bootstrap.min.css set `[hidden] { display: none !important; }` so we also need the `!important` here to be able to override the default hidden behavior on the sphinx rendered scikit-learn.org. See: https://github.com/scikit-learn/scikit-learn/issues/21755 */display: inline-block !important;position: relative;}#sk-container-id-5 div.sk-text-repr-fallback {display: none;}</style><div id=\"sk-container-id-5\" class=\"sk-top-container\"><div class=\"sk-text-repr-fallback\"><pre>RandomizedSearchCV(cv=5,\n",
       "                   estimator=RandomForestClassifier(class_weight=&#x27;balanced&#x27;,\n",
       "                                                    random_state=100),\n",
       "                   n_iter=20, n_jobs=-1,\n",
       "                   param_distributions={&#x27;bootstrap&#x27;: [True],\n",
       "                                        &#x27;max_depth&#x27;: [10, 20, None],\n",
       "                                        &#x27;max_features&#x27;: [&#x27;sqrt&#x27;],\n",
       "                                        &#x27;min_samples_leaf&#x27;: [1, 2],\n",
       "                                        &#x27;min_samples_split&#x27;: [2, 5],\n",
       "                                        &#x27;n_estimators&#x27;: [100, 200]},\n",
       "                   random_state=100, verbose=2)</pre><b>In a Jupyter environment, please rerun this cell to show the HTML representation or trust the notebook. <br />On GitHub, the HTML representation is unable to render, please try loading this page with nbviewer.org.</b></div><div class=\"sk-container\" hidden><div class=\"sk-item sk-dashed-wrapped\"><div class=\"sk-label-container\"><div class=\"sk-label sk-toggleable\"><input class=\"sk-toggleable__control sk-hidden--visually\" id=\"sk-estimator-id-9\" type=\"checkbox\" ><label for=\"sk-estimator-id-9\" class=\"sk-toggleable__label sk-toggleable__label-arrow\">RandomizedSearchCV</label><div class=\"sk-toggleable__content\"><pre>RandomizedSearchCV(cv=5,\n",
       "                   estimator=RandomForestClassifier(class_weight=&#x27;balanced&#x27;,\n",
       "                                                    random_state=100),\n",
       "                   n_iter=20, n_jobs=-1,\n",
       "                   param_distributions={&#x27;bootstrap&#x27;: [True],\n",
       "                                        &#x27;max_depth&#x27;: [10, 20, None],\n",
       "                                        &#x27;max_features&#x27;: [&#x27;sqrt&#x27;],\n",
       "                                        &#x27;min_samples_leaf&#x27;: [1, 2],\n",
       "                                        &#x27;min_samples_split&#x27;: [2, 5],\n",
       "                                        &#x27;n_estimators&#x27;: [100, 200]},\n",
       "                   random_state=100, verbose=2)</pre></div></div></div><div class=\"sk-parallel\"><div class=\"sk-parallel-item\"><div class=\"sk-item\"><div class=\"sk-label-container\"><div class=\"sk-label sk-toggleable\"><input class=\"sk-toggleable__control sk-hidden--visually\" id=\"sk-estimator-id-10\" type=\"checkbox\" ><label for=\"sk-estimator-id-10\" class=\"sk-toggleable__label sk-toggleable__label-arrow\">estimator: RandomForestClassifier</label><div class=\"sk-toggleable__content\"><pre>RandomForestClassifier(class_weight=&#x27;balanced&#x27;, random_state=100)</pre></div></div></div><div class=\"sk-serial\"><div class=\"sk-item\"><div class=\"sk-estimator sk-toggleable\"><input class=\"sk-toggleable__control sk-hidden--visually\" id=\"sk-estimator-id-11\" type=\"checkbox\" ><label for=\"sk-estimator-id-11\" class=\"sk-toggleable__label sk-toggleable__label-arrow\">RandomForestClassifier</label><div class=\"sk-toggleable__content\"><pre>RandomForestClassifier(class_weight=&#x27;balanced&#x27;, random_state=100)</pre></div></div></div></div></div></div></div></div></div></div>"
      ],
      "text/plain": [
       "RandomizedSearchCV(cv=5,\n",
       "                   estimator=RandomForestClassifier(class_weight='balanced',\n",
       "                                                    random_state=100),\n",
       "                   n_iter=20, n_jobs=-1,\n",
       "                   param_distributions={'bootstrap': [True],\n",
       "                                        'max_depth': [10, 20, None],\n",
       "                                        'max_features': ['sqrt'],\n",
       "                                        'min_samples_leaf': [1, 2],\n",
       "                                        'min_samples_split': [2, 5],\n",
       "                                        'n_estimators': [100, 200]},\n",
       "                   random_state=100, verbose=2)"
      ]
     },
     "execution_count": 48,
     "metadata": {},
     "output_type": "execute_result"
    }
   ],
   "source": [
    "from sklearn.ensemble import RandomForestClassifier\n",
    "from sklearn.model_selection import RandomizedSearchCV\n",
    "\n",
    "#  parameter grid for RandomizedSearchCV\n",
    "param_grid = {\n",
    "    'n_estimators': [100, 200],  \n",
    "    'max_depth': [10, 20, None],\n",
    "    'min_samples_split': [2, 5],\n",
    "    'min_samples_leaf': [1, 2],\n",
    "    'max_features': ['sqrt'],\n",
    "    'bootstrap': [True]\n",
    "}\n",
    "\n",
    "# Initialize the Random Forest classifier\n",
    "rf = RandomForestClassifier(random_state=100,class_weight='balanced')\n",
    "\n",
    "#  RandomizedSearchCV with cross-validation\n",
    "rf_random = RandomizedSearchCV(estimator=rf, param_distributions=param_grid,\n",
    "                               n_iter=20, cv=5, verbose=2, random_state=100, n_jobs=-1)\n",
    "\n",
    "# RandomizedSearchCV on the subset\n",
    "rf_random.fit(X_subset, y_subset)\n"
   ]
  },
  {
   "cell_type": "code",
   "execution_count": 49,
   "id": "8103f5bb",
   "metadata": {},
   "outputs": [
    {
     "data": {
      "text/html": [
       "<style>#sk-container-id-6 {color: black;}#sk-container-id-6 pre{padding: 0;}#sk-container-id-6 div.sk-toggleable {background-color: white;}#sk-container-id-6 label.sk-toggleable__label {cursor: pointer;display: block;width: 100%;margin-bottom: 0;padding: 0.3em;box-sizing: border-box;text-align: center;}#sk-container-id-6 label.sk-toggleable__label-arrow:before {content: \"▸\";float: left;margin-right: 0.25em;color: #696969;}#sk-container-id-6 label.sk-toggleable__label-arrow:hover:before {color: black;}#sk-container-id-6 div.sk-estimator:hover label.sk-toggleable__label-arrow:before {color: black;}#sk-container-id-6 div.sk-toggleable__content {max-height: 0;max-width: 0;overflow: hidden;text-align: left;background-color: #f0f8ff;}#sk-container-id-6 div.sk-toggleable__content pre {margin: 0.2em;color: black;border-radius: 0.25em;background-color: #f0f8ff;}#sk-container-id-6 input.sk-toggleable__control:checked~div.sk-toggleable__content {max-height: 200px;max-width: 100%;overflow: auto;}#sk-container-id-6 input.sk-toggleable__control:checked~label.sk-toggleable__label-arrow:before {content: \"▾\";}#sk-container-id-6 div.sk-estimator input.sk-toggleable__control:checked~label.sk-toggleable__label {background-color: #d4ebff;}#sk-container-id-6 div.sk-label input.sk-toggleable__control:checked~label.sk-toggleable__label {background-color: #d4ebff;}#sk-container-id-6 input.sk-hidden--visually {border: 0;clip: rect(1px 1px 1px 1px);clip: rect(1px, 1px, 1px, 1px);height: 1px;margin: -1px;overflow: hidden;padding: 0;position: absolute;width: 1px;}#sk-container-id-6 div.sk-estimator {font-family: monospace;background-color: #f0f8ff;border: 1px dotted black;border-radius: 0.25em;box-sizing: border-box;margin-bottom: 0.5em;}#sk-container-id-6 div.sk-estimator:hover {background-color: #d4ebff;}#sk-container-id-6 div.sk-parallel-item::after {content: \"\";width: 100%;border-bottom: 1px solid gray;flex-grow: 1;}#sk-container-id-6 div.sk-label:hover label.sk-toggleable__label {background-color: #d4ebff;}#sk-container-id-6 div.sk-serial::before {content: \"\";position: absolute;border-left: 1px solid gray;box-sizing: border-box;top: 0;bottom: 0;left: 50%;z-index: 0;}#sk-container-id-6 div.sk-serial {display: flex;flex-direction: column;align-items: center;background-color: white;padding-right: 0.2em;padding-left: 0.2em;position: relative;}#sk-container-id-6 div.sk-item {position: relative;z-index: 1;}#sk-container-id-6 div.sk-parallel {display: flex;align-items: stretch;justify-content: center;background-color: white;position: relative;}#sk-container-id-6 div.sk-item::before, #sk-container-id-6 div.sk-parallel-item::before {content: \"\";position: absolute;border-left: 1px solid gray;box-sizing: border-box;top: 0;bottom: 0;left: 50%;z-index: -1;}#sk-container-id-6 div.sk-parallel-item {display: flex;flex-direction: column;z-index: 1;position: relative;background-color: white;}#sk-container-id-6 div.sk-parallel-item:first-child::after {align-self: flex-end;width: 50%;}#sk-container-id-6 div.sk-parallel-item:last-child::after {align-self: flex-start;width: 50%;}#sk-container-id-6 div.sk-parallel-item:only-child::after {width: 0;}#sk-container-id-6 div.sk-dashed-wrapped {border: 1px dashed gray;margin: 0 0.4em 0.5em 0.4em;box-sizing: border-box;padding-bottom: 0.4em;background-color: white;}#sk-container-id-6 div.sk-label label {font-family: monospace;font-weight: bold;display: inline-block;line-height: 1.2em;}#sk-container-id-6 div.sk-label-container {text-align: center;}#sk-container-id-6 div.sk-container {/* jupyter's `normalize.less` sets `[hidden] { display: none; }` but bootstrap.min.css set `[hidden] { display: none !important; }` so we also need the `!important` here to be able to override the default hidden behavior on the sphinx rendered scikit-learn.org. See: https://github.com/scikit-learn/scikit-learn/issues/21755 */display: inline-block !important;position: relative;}#sk-container-id-6 div.sk-text-repr-fallback {display: none;}</style><div id=\"sk-container-id-6\" class=\"sk-top-container\"><div class=\"sk-text-repr-fallback\"><pre>RandomForestClassifier(class_weight=&#x27;balanced&#x27;, max_depth=20,\n",
       "                       min_samples_leaf=2, random_state=100)</pre><b>In a Jupyter environment, please rerun this cell to show the HTML representation or trust the notebook. <br />On GitHub, the HTML representation is unable to render, please try loading this page with nbviewer.org.</b></div><div class=\"sk-container\" hidden><div class=\"sk-item\"><div class=\"sk-estimator sk-toggleable\"><input class=\"sk-toggleable__control sk-hidden--visually\" id=\"sk-estimator-id-12\" type=\"checkbox\" checked><label for=\"sk-estimator-id-12\" class=\"sk-toggleable__label sk-toggleable__label-arrow\">RandomForestClassifier</label><div class=\"sk-toggleable__content\"><pre>RandomForestClassifier(class_weight=&#x27;balanced&#x27;, max_depth=20,\n",
       "                       min_samples_leaf=2, random_state=100)</pre></div></div></div></div></div>"
      ],
      "text/plain": [
       "RandomForestClassifier(class_weight='balanced', max_depth=20,\n",
       "                       min_samples_leaf=2, random_state=100)"
      ]
     },
     "execution_count": 49,
     "metadata": {},
     "output_type": "execute_result"
    }
   ],
   "source": [
    "# Separate features and target from the full dataset\n",
    "X_full = df.drop(columns=['class'])\n",
    "y_full = df['class']\n",
    "\n",
    "# Build the final model using the best hyperparameters\n",
    "best_rf = rf_random.best_estimator_\n",
    "\n",
    "# Train the final model on the full dataset\n",
    "best_rf.fit(X_full, y_full)\n"
   ]
  },
  {
   "cell_type": "code",
   "execution_count": 52,
   "id": "f2fa6c17",
   "metadata": {},
   "outputs": [
    {
     "name": "stdout",
     "output_type": "stream",
     "text": [
      "Cross-Validated Accuracy: 0.9606\n",
      "Cross-Validated Precision: 0.7283\n",
      "Cross-Validated Recall: 0.3061\n"
     ]
    }
   ],
   "source": [
    "from sklearn.model_selection import cross_val_score\n",
    "from sklearn.metrics import make_scorer, accuracy_score, precision_score, recall_score\n",
    "\n",
    "# Define custom scorers for precision and recall\n",
    "scoring = {\n",
    "    'accuracy': make_scorer(accuracy_score),\n",
    "    'precision': make_scorer(precision_score),\n",
    "    'recall': make_scorer(recall_score)\n",
    "}\n",
    "\n",
    "# cross-validation on the entire dataset\n",
    "cv_results = cross_val_score(best_rf, X_full, y_full, cv=5, scoring='accuracy', n_jobs=-1)\n",
    "print(f\"Cross-Validated Accuracy: {cv_results.mean():.4f}\")\n",
    "\n",
    "# cross-validation for precision and recall\n",
    "precision_cv = cross_val_score(best_rf, X_full, y_full, cv=5, scoring='precision', n_jobs=-1)\n",
    "recall_cv = cross_val_score(best_rf, X_full, y_full, cv=5, scoring='recall', n_jobs=-1)\n",
    "\n",
    "# Print the cross-validated precision and recall\n",
    "print(f\"Cross-Validated Precision: {precision_cv.mean():.4f}\")\n",
    "print(f\"Cross-Validated Recall: {recall_cv.mean():.4f}\")\n",
    "\n"
   ]
  },
  {
   "cell_type": "markdown",
   "id": "e1060621",
   "metadata": {},
   "source": [
    "# Try again "
   ]
  },
  {
   "cell_type": "code",
   "execution_count": 54,
   "id": "0415506d",
   "metadata": {},
   "outputs": [],
   "source": [
    "X= df.drop(columns=['class'])\n",
    "y= df['class']"
   ]
  },
  {
   "cell_type": "code",
   "execution_count": 55,
   "id": "7431e0e2",
   "metadata": {},
   "outputs": [
    {
     "name": "stdout",
     "output_type": "stream",
     "text": [
      "Fitting 2 folds for each of 36 candidates, totalling 72 fits\n"
     ]
    },
    {
     "name": "stderr",
     "output_type": "stream",
     "text": [
      "C:\\Users\\bhand\\anaconda3\\Lib\\site-packages\\sklearn\\model_selection\\_validation.py:425: FitFailedWarning: \n",
      "36 fits failed out of a total of 72.\n",
      "The score on these train-test partitions for these parameters will be set to nan.\n",
      "If these failures are not expected, you can try to debug them by setting error_score='raise'.\n",
      "\n",
      "Below are more details about the failures:\n",
      "--------------------------------------------------------------------------------\n",
      "21 fits failed with the following error:\n",
      "Traceback (most recent call last):\n",
      "  File \"C:\\Users\\bhand\\anaconda3\\Lib\\site-packages\\sklearn\\model_selection\\_validation.py\", line 732, in _fit_and_score\n",
      "    estimator.fit(X_train, y_train, **fit_params)\n",
      "  File \"C:\\Users\\bhand\\anaconda3\\Lib\\site-packages\\sklearn\\base.py\", line 1144, in wrapper\n",
      "    estimator._validate_params()\n",
      "  File \"C:\\Users\\bhand\\anaconda3\\Lib\\site-packages\\sklearn\\base.py\", line 637, in _validate_params\n",
      "    validate_parameter_constraints(\n",
      "  File \"C:\\Users\\bhand\\anaconda3\\Lib\\site-packages\\sklearn\\utils\\_param_validation.py\", line 95, in validate_parameter_constraints\n",
      "    raise InvalidParameterError(\n",
      "sklearn.utils._param_validation.InvalidParameterError: The 'max_features' parameter of RandomForestClassifier must be an int in the range [1, inf), a float in the range (0.0, 1.0], a str among {'sqrt', 'log2'} or None. Got 'auto' instead.\n",
      "\n",
      "--------------------------------------------------------------------------------\n",
      "15 fits failed with the following error:\n",
      "Traceback (most recent call last):\n",
      "  File \"C:\\Users\\bhand\\anaconda3\\Lib\\site-packages\\sklearn\\model_selection\\_validation.py\", line 732, in _fit_and_score\n",
      "    estimator.fit(X_train, y_train, **fit_params)\n",
      "  File \"C:\\Users\\bhand\\anaconda3\\Lib\\site-packages\\sklearn\\base.py\", line 1144, in wrapper\n",
      "    estimator._validate_params()\n",
      "  File \"C:\\Users\\bhand\\anaconda3\\Lib\\site-packages\\sklearn\\base.py\", line 637, in _validate_params\n",
      "    validate_parameter_constraints(\n",
      "  File \"C:\\Users\\bhand\\anaconda3\\Lib\\site-packages\\sklearn\\utils\\_param_validation.py\", line 95, in validate_parameter_constraints\n",
      "    raise InvalidParameterError(\n",
      "sklearn.utils._param_validation.InvalidParameterError: The 'max_features' parameter of RandomForestClassifier must be an int in the range [1, inf), a float in the range (0.0, 1.0], a str among {'log2', 'sqrt'} or None. Got 'auto' instead.\n",
      "\n",
      "  warnings.warn(some_fits_failed_message, FitFailedWarning)\n",
      "C:\\Users\\bhand\\anaconda3\\Lib\\site-packages\\sklearn\\model_selection\\_search.py:976: UserWarning: One or more of the test scores are non-finite: [       nan        nan        nan 0.93178213 0.93539926 0.93682768\n",
      "        nan        nan        nan 0.95433721 0.95477497 0.95525878\n",
      "        nan        nan        nan 0.95597293 0.95601901 0.9561342\n",
      "        nan        nan        nan 0.93620552 0.93747268 0.93910844\n",
      "        nan        nan        nan 0.95786211 0.95834593 0.95915229\n",
      "        nan        nan        nan 0.95912918 0.95972819 0.95998162]\n",
      "  warnings.warn(\n"
     ]
    },
    {
     "name": "stdout",
     "output_type": "stream",
     "text": [
      "Best Hyperparameters found by GridSearchCV:\n",
      "{'criterion': 'entropy', 'max_depth': 20, 'max_features': 'sqrt', 'n_estimators': 200}\n"
     ]
    }
   ],
   "source": [
    "from sklearn.model_selection import GridSearchCV\n",
    "from sklearn.ensemble import RandomForestClassifier\n",
    "\n",
    "# Define the parameter grid for GridSearchCV\n",
    "param_grid = {\n",
    "    'criterion': ['gini', 'entropy'],  \n",
    "    'max_depth': [10, 15, 20],         \n",
    "    'max_features': ['auto', 'sqrt'],  \n",
    "    'n_estimators': [50, 100, 200] \n",
    "}\n",
    "\n",
    "#  Random Forest classifier with class weights to handle imbalance\n",
    "rf = RandomForestClassifier(random_state=100, class_weight='balanced')\n",
    "\n",
    "# Set up GridSearchCV with 2-fold cross-validation\n",
    "grid_search = GridSearchCV(estimator=rf, param_grid=param_grid, cv=2, verbose=2, n_jobs=-1)\n",
    "\n",
    "# Fit the GridSearchCV to the data\n",
    "grid_search.fit(X, y)\n",
    "\n",
    "# Print the best hyperparameters found\n",
    "print(\"Best Hyperparameters found by GridSearchCV:\")\n",
    "print(grid_search.best_params_)\n"
   ]
  },
  {
   "cell_type": "code",
   "execution_count": 56,
   "id": "830e485c",
   "metadata": {},
   "outputs": [
    {
     "name": "stdout",
     "output_type": "stream",
     "text": [
      "Cross-Validated Accuracy: 0.9621\n",
      "Cross-Validated Precision: 0.8376\n",
      "Cross-Validated Recall: 0.2678\n"
     ]
    }
   ],
   "source": [
    "# T final Random Forest model with the best parameters found by GridSearchCV\n",
    "best_rf = grid_search.best_estimator_\n",
    "\n",
    "# Evaluate using cross-validation (accuracy, precision, recall)\n",
    "from sklearn.model_selection import cross_val_score\n",
    "\n",
    "# Evaluate using cross-validated accuracy\n",
    "accuracy = cross_val_score(best_rf, X, y, cv=5, scoring='accuracy', n_jobs=-1)\n",
    "print(f\"Cross-Validated Accuracy: {accuracy.mean():.4f}\")\n",
    "\n",
    "# Evaluate precision and recall\n",
    "precision = cross_val_score(best_rf, X, y, cv=5, scoring='precision', n_jobs=-1)\n",
    "recall = cross_val_score(best_rf, X, y, cv=5, scoring='recall', n_jobs=-1)\n",
    "\n",
    "print(f\"Cross-Validated Precision: {precision.mean():.4f}\")\n",
    "print(f\"Cross-Validated Recall: {recall.mean():.4f}\")\n"
   ]
  },
  {
   "cell_type": "code",
   "execution_count": 62,
   "id": "ecbba441",
   "metadata": {},
   "outputs": [],
   "source": [
    "from sklearn.model_selection import cross_val_predict\n",
    "from sklearn.ensemble import RandomForestClassifier\n",
    "\n",
    "\n",
    "# Generate cross-validated predictions\n",
    "y_pred_cv = cross_val_predict(best_rf, X, y, cv=5, method='predict')\n",
    "y_prob_cv = cross_val_predict(best_rf, X, y, cv=5, method='predict_proba')[:, 1]\n",
    "\n",
    "\n"
   ]
  },
  {
   "cell_type": "code",
   "execution_count": 63,
   "id": "38e64bb2",
   "metadata": {},
   "outputs": [
    {
     "data": {
      "image/png": "[encoded data removed]",
      "text/plain": [
       "<Figure size 600x400 with 1 Axes>"
      ]
     },
     "metadata": {},
     "output_type": "display_data"
    }
   ],
   "source": [
    "from sklearn.metrics import roc_curve, auc\n",
    "import matplotlib.pyplot as plt\n",
    "\n",
    "# Compute the ROC curve and AUC score\n",
    "fpr, tpr, thresholds = roc_curve(y, y_prob_cv)\n",
    "roc_auc = auc(fpr, tpr)\n",
    "\n",
    "# Plot the ROC curve\n",
    "plt.figure(figsize=(6, 4))\n",
    "plt.plot(fpr, tpr, color='blue', label=f'ROC curve (AUC = {roc_auc:.2f})')\n",
    "plt.plot([0, 1], [0, 1], color='grey', linestyle='--')\n",
    "plt.title('Receiver Operating Characteristic (ROC) Curve (Cross-Validated)')\n",
    "plt.xlabel('False Positive Rate')\n",
    "plt.ylabel('True Positive Rate')\n",
    "plt.legend(loc='lower right')\n",
    "plt.show()\n"
   ]
  },
  {
   "cell_type": "code",
   "execution_count": 64,
   "id": "ce0e0ba1",
   "metadata": {},
   "outputs": [
    {
     "name": "stdout",
     "output_type": "stream",
     "text": [
      "Classification Report (Cross-Validated):\n",
      "               precision    recall  f1-score   support\n",
      "\n",
      "           0       0.96      1.00      0.98     41314\n",
      "           1       0.83      0.27      0.41      2091\n",
      "\n",
      "    accuracy                           0.96     43405\n",
      "   macro avg       0.90      0.63      0.69     43405\n",
      "weighted avg       0.96      0.96      0.95     43405\n",
      "\n"
     ]
    }
   ],
   "source": [
    "from sklearn.metrics import classification_report\n",
    "\n",
    "# Generate the classification report\n",
    "report_cv = classification_report(y, y_pred_cv)\n",
    "print(\"Classification Report (Cross-Validated):\\n\", report_cv)\n"
   ]
  },
  {
   "cell_type": "code",
   "execution_count": 65,
   "id": "90eb49b9",
   "metadata": {},
   "outputs": [
    {
     "data": {
      "image/png": "[encoded data removed]",
      "text/plain": [
       "<Figure size 600x400 with 2 Axes>"
      ]
     },
     "metadata": {},
     "output_type": "display_data"
    }
   ],
   "source": [
    "from sklearn.metrics import confusion_matrix\n",
    "import seaborn as sns\n",
    "\n",
    "# Generate the confusion matrix\n",
    "cm_cv = confusion_matrix(y, y_pred_cv)\n",
    "\n",
    "# Plot the confusion matrix\n",
    "plt.figure(figsize=(6, 4))\n",
    "sns.heatmap(cm_cv, annot=True, fmt='d', cmap='Blues')\n",
    "plt.title('Confusion Matrix (Cross-Validated)')\n",
    "plt.ylabel('Actual')\n",
    "plt.xlabel('Predicted')\n",
    "plt.show()\n"
   ]
  },
  {
   "cell_type": "markdown",
   "id": "12f0dbde",
   "metadata": {},
   "source": [
    "# XGBoost"
   ]
  },
  {
   "cell_type": "code",
   "execution_count": 66,
   "id": "9220fc71",
   "metadata": {},
   "outputs": [
    {
     "name": "stdout",
     "output_type": "stream",
     "text": [
      "Collecting xgboost\n",
      "  Obtaining dependency information for xgboost from https://files.pythonhosted.org/packages/e2/7b/8c1b410cd0604cee9a167a19f7e1746f5b92ae7d02ad574ab560b73c5a48/xgboost-2.1.1-py3-none-win_amd64.whl.metadata\n",
      "  Downloading xgboost-2.1.1-py3-none-win_amd64.whl.metadata (2.1 kB)\n",
      "Requirement already satisfied: numpy in c:\\users\\bhand\\anaconda3\\lib\\site-packages (from xgboost) (1.24.3)\n",
      "Requirement already satisfied: scipy in c:\\users\\bhand\\anaconda3\\lib\\site-packages (from xgboost) (1.11.1)\n",
      "Downloading xgboost-2.1.1-py3-none-win_amd64.whl (124.9 MB)\n",
      "   ---------------------------------------- 0.0/124.9 MB ? eta -:--:--\n",
      "   ---------------------------------------- 0.0/124.9 MB ? eta -:--:--\n",
      "   ---------------------------------------- 0.1/124.9 MB 1.8 MB/s eta 0:01:09\n",
      "   ---------------------------------------- 0.5/124.9 MB 4.0 MB/s eta 0:00:31\n",
      "   ---------------------------------------- 1.0/124.9 MB 6.3 MB/s eta 0:00:20\n",
      "    --------------------------------------- 1.7/124.9 MB 8.3 MB/s eta 0:00:15\n",
      "    --------------------------------------- 2.3/124.9 MB 9.1 MB/s eta 0:00:14\n",
      "    --------------------------------------- 2.8/124.9 MB 9.9 MB/s eta 0:00:13\n",
      "   - -------------------------------------- 3.5/124.9 MB 10.3 MB/s eta 0:00:12\n",
      "   - -------------------------------------- 4.1/124.9 MB 10.5 MB/s eta 0:00:12\n",
      "   - -------------------------------------- 4.6/124.9 MB 10.5 MB/s eta 0:00:12\n",
      "   - -------------------------------------- 5.1/124.9 MB 10.6 MB/s eta 0:00:12\n",
      "   - -------------------------------------- 5.8/124.9 MB 10.9 MB/s eta 0:00:11\n",
      "   -- ------------------------------------- 6.3/124.9 MB 10.9 MB/s eta 0:00:11\n",
      "   -- ------------------------------------- 6.7/124.9 MB 10.7 MB/s eta 0:00:11\n",
      "   -- ------------------------------------- 7.2/124.9 MB 10.7 MB/s eta 0:00:11\n",
      "   -- ------------------------------------- 7.7/124.9 MB 10.7 MB/s eta 0:00:12\n",
      "   -- ------------------------------------- 8.0/124.9 MB 10.6 MB/s eta 0:00:11\n",
      "   -- ------------------------------------- 8.3/124.9 MB 10.6 MB/s eta 0:00:11\n",
      "   -- ------------------------------------- 8.7/124.9 MB 10.1 MB/s eta 0:00:12\n",
      "   -- ------------------------------------- 8.9/124.9 MB 9.8 MB/s eta 0:00:12\n",
      "   -- ------------------------------------- 9.1/124.9 MB 9.6 MB/s eta 0:00:13\n",
      "   -- ------------------------------------- 9.3/124.9 MB 9.3 MB/s eta 0:00:13\n",
      "   --- ------------------------------------ 9.5/124.9 MB 9.0 MB/s eta 0:00:13\n",
      "   --- ------------------------------------ 9.6/124.9 MB 8.8 MB/s eta 0:00:14\n",
      "   --- ------------------------------------ 9.8/124.9 MB 8.6 MB/s eta 0:00:14\n",
      "   --- ------------------------------------ 9.9/124.9 MB 8.3 MB/s eta 0:00:14\n",
      "   --- ------------------------------------ 10.0/124.9 MB 8.1 MB/s eta 0:00:15\n",
      "   --- ------------------------------------ 10.1/124.9 MB 7.8 MB/s eta 0:00:15\n",
      "   --- ------------------------------------ 10.2/124.9 MB 7.7 MB/s eta 0:00:15\n",
      "   --- ------------------------------------ 10.3/124.9 MB 7.7 MB/s eta 0:00:15\n",
      "   --- ------------------------------------ 10.4/124.9 MB 7.6 MB/s eta 0:00:16\n",
      "   --- ------------------------------------ 10.5/124.9 MB 7.4 MB/s eta 0:00:16\n",
      "   --- ------------------------------------ 10.5/124.9 MB 7.2 MB/s eta 0:00:16\n",
      "   --- ------------------------------------ 10.6/124.9 MB 7.0 MB/s eta 0:00:17\n",
      "   --- ------------------------------------ 10.7/124.9 MB 7.0 MB/s eta 0:00:17\n",
      "   --- ------------------------------------ 10.8/124.9 MB 6.7 MB/s eta 0:00:18\n",
      "   --- ------------------------------------ 10.9/124.9 MB 6.5 MB/s eta 0:00:18\n",
      "   --- ------------------------------------ 10.9/124.9 MB 6.4 MB/s eta 0:00:18\n",
      "   --- ------------------------------------ 11.0/124.9 MB 6.2 MB/s eta 0:00:19\n",
      "   --- ------------------------------------ 11.0/124.9 MB 6.1 MB/s eta 0:00:19\n",
      "   --- ------------------------------------ 11.1/124.9 MB 5.9 MB/s eta 0:00:20\n",
      "   --- ------------------------------------ 11.2/124.9 MB 5.7 MB/s eta 0:00:20\n",
      "   --- ------------------------------------ 11.2/124.9 MB 5.6 MB/s eta 0:00:21\n",
      "   --- ------------------------------------ 11.3/124.9 MB 5.5 MB/s eta 0:00:21\n",
      "   --- ------------------------------------ 11.3/124.9 MB 5.4 MB/s eta 0:00:22\n",
      "   --- ------------------------------------ 11.4/124.9 MB 5.2 MB/s eta 0:00:22\n",
      "   --- ------------------------------------ 11.4/124.9 MB 5.2 MB/s eta 0:00:22\n",
      "   --- ------------------------------------ 11.5/124.9 MB 5.1 MB/s eta 0:00:23\n",
      "   --- ------------------------------------ 11.5/124.9 MB 5.0 MB/s eta 0:00:23\n",
      "   --- ------------------------------------ 11.6/124.9 MB 4.8 MB/s eta 0:00:24\n",
      "   --- ------------------------------------ 11.6/124.9 MB 4.7 MB/s eta 0:00:24\n",
      "   --- ------------------------------------ 11.7/124.9 MB 4.6 MB/s eta 0:00:25\n",
      "   --- ------------------------------------ 11.7/124.9 MB 4.6 MB/s eta 0:00:25\n",
      "   --- ------------------------------------ 11.8/124.9 MB 4.5 MB/s eta 0:00:26\n",
      "   --- ------------------------------------ 11.8/124.9 MB 4.4 MB/s eta 0:00:26\n",
      "   --- ------------------------------------ 11.9/124.9 MB 4.3 MB/s eta 0:00:27\n",
      "   --- ------------------------------------ 11.9/124.9 MB 4.2 MB/s eta 0:00:27\n",
      "   --- ------------------------------------ 12.0/124.9 MB 4.1 MB/s eta 0:00:28\n",
      "   --- ------------------------------------ 12.0/124.9 MB 4.1 MB/s eta 0:00:28\n",
      "   --- ------------------------------------ 12.1/124.9 MB 4.0 MB/s eta 0:00:28\n",
      "   --- ------------------------------------ 12.1/124.9 MB 4.0 MB/s eta 0:00:29\n",
      "   --- ------------------------------------ 12.2/124.9 MB 3.9 MB/s eta 0:00:29\n",
      "   --- ------------------------------------ 12.2/124.9 MB 3.8 MB/s eta 0:00:30\n",
      "   --- ------------------------------------ 12.3/124.9 MB 3.7 MB/s eta 0:00:31\n",
      "   --- ------------------------------------ 12.3/124.9 MB 3.7 MB/s eta 0:00:31\n",
      "   --- ------------------------------------ 12.4/124.9 MB 3.6 MB/s eta 0:00:31\n",
      "   --- ------------------------------------ 12.5/124.9 MB 3.6 MB/s eta 0:00:32\n",
      "   ---- ----------------------------------- 12.5/124.9 MB 3.6 MB/s eta 0:00:32\n",
      "   ---- ----------------------------------- 12.6/124.9 MB 3.5 MB/s eta 0:00:32\n",
      "   ---- ----------------------------------- 12.6/124.9 MB 3.4 MB/s eta 0:00:33\n",
      "   ---- ----------------------------------- 12.7/124.9 MB 3.4 MB/s eta 0:00:34\n",
      "   ---- ----------------------------------- 12.7/124.9 MB 3.3 MB/s eta 0:00:34\n",
      "   ---- ----------------------------------- 12.8/124.9 MB 3.3 MB/s eta 0:00:34\n",
      "   ---- ----------------------------------- 12.9/124.9 MB 3.3 MB/s eta 0:00:35\n",
      "   ---- ----------------------------------- 13.0/124.9 MB 3.2 MB/s eta 0:00:36\n",
      "   ---- ----------------------------------- 13.0/124.9 MB 3.1 MB/s eta 0:00:36\n",
      "   ---- ----------------------------------- 13.1/124.9 MB 3.1 MB/s eta 0:00:36\n",
      "   ---- ----------------------------------- 13.1/124.9 MB 3.1 MB/s eta 0:00:36\n",
      "   ---- ----------------------------------- 13.2/124.9 MB 3.1 MB/s eta 0:00:37\n",
      "   ---- ----------------------------------- 13.3/124.9 MB 3.0 MB/s eta 0:00:37\n",
      "   ---- ----------------------------------- 13.4/124.9 MB 3.0 MB/s eta 0:00:38\n",
      "   ---- ----------------------------------- 13.5/124.9 MB 2.9 MB/s eta 0:00:38\n",
      "   ---- ----------------------------------- 13.6/124.9 MB 2.9 MB/s eta 0:00:39\n",
      "   ---- ----------------------------------- 13.6/124.9 MB 2.9 MB/s eta 0:00:39\n",
      "   ---- ----------------------------------- 13.8/124.9 MB 2.8 MB/s eta 0:00:40\n",
      "   ---- ----------------------------------- 13.9/124.9 MB 2.8 MB/s eta 0:00:40\n",
      "   ---- ----------------------------------- 13.9/124.9 MB 2.8 MB/s eta 0:00:40\n",
      "   ---- ----------------------------------- 14.1/124.9 MB 2.8 MB/s eta 0:00:41\n",
      "   ---- ----------------------------------- 14.2/124.9 MB 2.7 MB/s eta 0:00:41\n",
      "   ---- ----------------------------------- 14.3/124.9 MB 2.7 MB/s eta 0:00:41\n",
      "   ---- ----------------------------------- 14.4/124.9 MB 2.7 MB/s eta 0:00:42\n",
      "   ---- ----------------------------------- 14.6/124.9 MB 2.7 MB/s eta 0:00:42\n",
      "   ---- ----------------------------------- 14.7/124.9 MB 2.6 MB/s eta 0:00:42\n",
      "   ---- ----------------------------------- 14.8/124.9 MB 2.6 MB/s eta 0:00:43\n",
      "   ---- ----------------------------------- 15.0/124.9 MB 2.6 MB/s eta 0:00:43\n",
      "   ---- ----------------------------------- 15.1/124.9 MB 2.6 MB/s eta 0:00:43\n",
      "   ---- ----------------------------------- 15.3/124.9 MB 2.5 MB/s eta 0:00:44\n",
      "   ---- ----------------------------------- 15.4/124.9 MB 2.5 MB/s eta 0:00:44\n",
      "   ---- ----------------------------------- 15.6/124.9 MB 2.5 MB/s eta 0:00:44\n",
      "   ----- ---------------------------------- 15.8/124.9 MB 2.5 MB/s eta 0:00:45\n",
      "   ----- ---------------------------------- 15.9/124.9 MB 2.5 MB/s eta 0:00:45\n",
      "   ----- ---------------------------------- 16.1/124.9 MB 2.5 MB/s eta 0:00:45\n",
      "   ----- ---------------------------------- 16.3/124.9 MB 2.4 MB/s eta 0:00:45\n",
      "   ----- ---------------------------------- 16.5/124.9 MB 2.4 MB/s eta 0:00:46\n",
      "   ----- ---------------------------------- 16.7/124.9 MB 2.4 MB/s eta 0:00:46\n",
      "   ----- ---------------------------------- 16.8/124.9 MB 2.4 MB/s eta 0:00:46\n",
      "   ----- ---------------------------------- 17.0/124.9 MB 2.4 MB/s eta 0:00:46\n",
      "   ----- ---------------------------------- 17.1/124.9 MB 2.3 MB/s eta 0:00:46\n",
      "   ----- ---------------------------------- 17.3/124.9 MB 2.3 MB/s eta 0:00:47\n",
      "   ----- ---------------------------------- 17.4/124.9 MB 2.3 MB/s eta 0:00:47\n",
      "   ----- ---------------------------------- 17.6/124.9 MB 2.3 MB/s eta 0:00:47\n",
      "   ----- ---------------------------------- 17.7/124.9 MB 2.3 MB/s eta 0:00:48\n",
      "   ----- ---------------------------------- 17.8/124.9 MB 2.3 MB/s eta 0:00:48\n",
      "   ----- ---------------------------------- 18.0/124.9 MB 2.2 MB/s eta 0:00:48\n",
      "   ----- ---------------------------------- 18.1/124.9 MB 2.2 MB/s eta 0:00:48\n",
      "   ----- ---------------------------------- 18.3/124.9 MB 2.2 MB/s eta 0:00:49\n",
      "   ----- ---------------------------------- 18.5/124.9 MB 2.2 MB/s eta 0:00:49\n",
      "   ----- ---------------------------------- 18.7/124.9 MB 2.2 MB/s eta 0:00:49\n",
      "   ------ --------------------------------- 18.8/124.9 MB 2.2 MB/s eta 0:00:49\n",
      "   ------ --------------------------------- 19.0/124.9 MB 2.2 MB/s eta 0:00:49\n",
      "   ------ --------------------------------- 19.2/124.9 MB 2.2 MB/s eta 0:00:49\n",
      "   ------ --------------------------------- 19.4/124.9 MB 2.2 MB/s eta 0:00:49\n",
      "   ------ --------------------------------- 19.6/124.9 MB 2.2 MB/s eta 0:00:49\n",
      "   ------ --------------------------------- 19.8/124.9 MB 2.2 MB/s eta 0:00:49\n",
      "   ------ --------------------------------- 20.0/124.9 MB 2.2 MB/s eta 0:00:48\n",
      "   ------ --------------------------------- 20.2/124.9 MB 2.2 MB/s eta 0:00:48\n",
      "   ------ --------------------------------- 20.4/124.9 MB 2.2 MB/s eta 0:00:47\n",
      "   ------ --------------------------------- 20.6/124.9 MB 2.2 MB/s eta 0:00:47\n",
      "   ------ --------------------------------- 20.8/124.9 MB 2.3 MB/s eta 0:00:46\n",
      "   ------ --------------------------------- 21.1/124.9 MB 2.3 MB/s eta 0:00:45\n",
      "   ------ --------------------------------- 21.3/124.9 MB 2.4 MB/s eta 0:00:43\n",
      "   ------ --------------------------------- 21.5/124.9 MB 2.5 MB/s eta 0:00:42\n",
      "   ------ --------------------------------- 21.7/124.9 MB 2.6 MB/s eta 0:00:41\n",
      "   ------- -------------------------------- 21.9/124.9 MB 2.7 MB/s eta 0:00:39\n",
      "   ------- -------------------------------- 22.0/124.9 MB 2.7 MB/s eta 0:00:38\n",
      "   ------- -------------------------------- 22.3/124.9 MB 2.8 MB/s eta 0:00:37\n",
      "   ------- -------------------------------- 22.4/124.9 MB 2.9 MB/s eta 0:00:36\n",
      "   ------- -------------------------------- 22.6/124.9 MB 3.0 MB/s eta 0:00:35\n",
      "   ------- -------------------------------- 22.7/124.9 MB 3.0 MB/s eta 0:00:34\n",
      "   ------- -------------------------------- 22.9/124.9 MB 3.2 MB/s eta 0:00:32\n",
      "   ------- -------------------------------- 23.1/124.9 MB 3.3 MB/s eta 0:00:32\n",
      "   ------- -------------------------------- 23.3/124.9 MB 3.4 MB/s eta 0:00:30\n",
      "   ------- -------------------------------- 23.5/124.9 MB 3.5 MB/s eta 0:00:30\n",
      "   ------- -------------------------------- 23.7/124.9 MB 3.5 MB/s eta 0:00:29\n",
      "   ------- -------------------------------- 23.9/124.9 MB 3.6 MB/s eta 0:00:29\n",
      "   ------- -------------------------------- 24.1/124.9 MB 3.7 MB/s eta 0:00:28\n",
      "   ------- -------------------------------- 24.3/124.9 MB 3.7 MB/s eta 0:00:27\n",
      "   ------- -------------------------------- 24.6/124.9 MB 3.8 MB/s eta 0:00:27\n",
      "   ------- -------------------------------- 24.7/124.9 MB 3.8 MB/s eta 0:00:27\n",
      "   ------- -------------------------------- 24.9/124.9 MB 3.8 MB/s eta 0:00:27\n",
      "   -------- ------------------------------- 25.0/124.9 MB 3.9 MB/s eta 0:00:26\n",
      "   -------- ------------------------------- 25.2/124.9 MB 3.9 MB/s eta 0:00:26\n",
      "   -------- ------------------------------- 25.4/124.9 MB 3.9 MB/s eta 0:00:26\n",
      "   -------- ------------------------------- 25.5/124.9 MB 3.8 MB/s eta 0:00:26\n",
      "   -------- ------------------------------- 25.7/124.9 MB 3.9 MB/s eta 0:00:26\n",
      "   -------- ------------------------------- 25.9/124.9 MB 3.9 MB/s eta 0:00:26\n",
      "   -------- ------------------------------- 26.0/124.9 MB 3.9 MB/s eta 0:00:26\n",
      "   -------- ------------------------------- 26.2/124.9 MB 3.9 MB/s eta 0:00:26\n",
      "   -------- ------------------------------- 26.3/124.9 MB 3.9 MB/s eta 0:00:26\n",
      "   -------- ------------------------------- 26.5/124.9 MB 3.9 MB/s eta 0:00:26\n",
      "   -------- ------------------------------- 26.7/124.9 MB 3.9 MB/s eta 0:00:26\n",
      "   -------- ------------------------------- 26.9/124.9 MB 3.9 MB/s eta 0:00:26\n",
      "   -------- ------------------------------- 27.0/124.9 MB 3.8 MB/s eta 0:00:26\n",
      "   -------- ------------------------------- 27.1/124.9 MB 3.8 MB/s eta 0:00:26\n",
      "   -------- ------------------------------- 27.3/124.9 MB 3.8 MB/s eta 0:00:26\n",
      "   -------- ------------------------------- 27.5/124.9 MB 3.8 MB/s eta 0:00:26\n",
      "   -------- ------------------------------- 27.6/124.9 MB 3.8 MB/s eta 0:00:26\n",
      "   -------- ------------------------------- 27.8/124.9 MB 3.9 MB/s eta 0:00:26\n",
      "   -------- ------------------------------- 27.9/124.9 MB 3.9 MB/s eta 0:00:26\n",
      "   -------- ------------------------------- 28.1/124.9 MB 3.9 MB/s eta 0:00:26\n",
      "   --------- ------------------------------ 28.3/124.9 MB 3.9 MB/s eta 0:00:25\n",
      "   --------- ------------------------------ 28.4/124.9 MB 3.9 MB/s eta 0:00:25\n",
      "   --------- ------------------------------ 28.6/124.9 MB 3.9 MB/s eta 0:00:25\n",
      "   --------- ------------------------------ 28.8/124.9 MB 3.9 MB/s eta 0:00:25\n",
      "   --------- ------------------------------ 28.9/124.9 MB 3.9 MB/s eta 0:00:25\n",
      "   --------- ------------------------------ 29.1/124.9 MB 3.9 MB/s eta 0:00:25\n",
      "   --------- ------------------------------ 29.3/124.9 MB 3.9 MB/s eta 0:00:25\n",
      "   --------- ------------------------------ 29.5/124.9 MB 3.9 MB/s eta 0:00:25\n",
      "   --------- ------------------------------ 29.7/124.9 MB 3.9 MB/s eta 0:00:25\n",
      "   --------- ------------------------------ 29.8/124.9 MB 3.8 MB/s eta 0:00:25\n",
      "   --------- ------------------------------ 29.9/124.9 MB 3.8 MB/s eta 0:00:25\n",
      "   --------- ------------------------------ 30.1/124.9 MB 3.8 MB/s eta 0:00:25\n",
      "   --------- ------------------------------ 30.2/124.9 MB 3.8 MB/s eta 0:00:26\n",
      "   --------- ------------------------------ 30.4/124.9 MB 3.8 MB/s eta 0:00:25\n",
      "   --------- ------------------------------ 30.5/124.9 MB 3.8 MB/s eta 0:00:26\n",
      "   --------- ------------------------------ 30.7/124.9 MB 3.7 MB/s eta 0:00:26\n",
      "   --------- ------------------------------ 30.9/124.9 MB 3.7 MB/s eta 0:00:26\n",
      "   --------- ------------------------------ 31.1/124.9 MB 3.7 MB/s eta 0:00:26\n",
      "   ---------- ----------------------------- 31.2/124.9 MB 3.7 MB/s eta 0:00:26\n",
      "   ---------- ----------------------------- 31.4/124.9 MB 3.7 MB/s eta 0:00:26\n",
      "   ---------- ----------------------------- 31.6/124.9 MB 3.7 MB/s eta 0:00:26\n",
      "   ---------- ----------------------------- 31.8/124.9 MB 3.7 MB/s eta 0:00:26\n",
      "   ---------- ----------------------------- 32.0/124.9 MB 3.7 MB/s eta 0:00:26\n",
      "   ---------- ----------------------------- 32.1/124.9 MB 3.7 MB/s eta 0:00:26\n",
      "   ---------- ----------------------------- 32.4/124.9 MB 3.7 MB/s eta 0:00:26\n",
      "   ---------- ----------------------------- 32.5/124.9 MB 3.7 MB/s eta 0:00:25\n",
      "   ---------- ----------------------------- 32.8/124.9 MB 3.7 MB/s eta 0:00:25\n",
      "   ---------- ----------------------------- 33.0/124.9 MB 3.7 MB/s eta 0:00:25\n",
      "   ---------- ----------------------------- 33.2/124.9 MB 3.7 MB/s eta 0:00:25\n",
      "   ---------- ----------------------------- 33.4/124.9 MB 3.7 MB/s eta 0:00:25\n",
      "   ---------- ----------------------------- 33.6/124.9 MB 3.7 MB/s eta 0:00:25\n",
      "   ---------- ----------------------------- 33.8/124.9 MB 3.7 MB/s eta 0:00:25\n",
      "   ---------- ----------------------------- 34.0/124.9 MB 3.7 MB/s eta 0:00:25\n",
      "   ---------- ----------------------------- 34.3/124.9 MB 3.8 MB/s eta 0:00:25\n",
      "   ----------- ---------------------------- 34.5/124.9 MB 3.7 MB/s eta 0:00:25\n",
      "   ----------- ---------------------------- 34.7/124.9 MB 3.8 MB/s eta 0:00:24\n",
      "   ----------- ---------------------------- 34.9/124.9 MB 3.8 MB/s eta 0:00:24\n",
      "   ----------- ---------------------------- 35.1/124.9 MB 3.8 MB/s eta 0:00:24\n",
      "   ----------- ---------------------------- 35.3/124.9 MB 3.8 MB/s eta 0:00:24\n",
      "   ----------- ---------------------------- 35.6/124.9 MB 3.9 MB/s eta 0:00:24\n",
      "   ----------- ---------------------------- 35.8/124.9 MB 3.9 MB/s eta 0:00:23\n",
      "   ----------- ---------------------------- 36.1/124.9 MB 3.9 MB/s eta 0:00:23\n",
      "   ----------- ---------------------------- 36.3/124.9 MB 3.9 MB/s eta 0:00:23\n",
      "   ----------- ---------------------------- 36.6/124.9 MB 4.0 MB/s eta 0:00:23\n",
      "   ----------- ---------------------------- 36.8/124.9 MB 4.0 MB/s eta 0:00:23\n",
      "   ----------- ---------------------------- 37.1/124.9 MB 4.0 MB/s eta 0:00:22\n",
      "   ----------- ---------------------------- 37.4/124.9 MB 4.1 MB/s eta 0:00:22\n",
      "   ------------ --------------------------- 37.6/124.9 MB 4.2 MB/s eta 0:00:21\n",
      "   ------------ --------------------------- 37.9/124.9 MB 4.3 MB/s eta 0:00:21\n",
      "   ------------ --------------------------- 38.2/124.9 MB 4.3 MB/s eta 0:00:21\n",
      "   ------------ --------------------------- 38.5/124.9 MB 4.4 MB/s eta 0:00:20\n",
      "   ------------ --------------------------- 38.7/124.9 MB 4.4 MB/s eta 0:00:20\n",
      "   ------------ --------------------------- 39.0/124.9 MB 4.5 MB/s eta 0:00:20\n",
      "   ------------ --------------------------- 39.3/124.9 MB 4.5 MB/s eta 0:00:19\n",
      "   ------------ --------------------------- 39.6/124.9 MB 4.6 MB/s eta 0:00:19\n",
      "   ------------ --------------------------- 39.9/124.9 MB 4.7 MB/s eta 0:00:19\n",
      "   ------------ --------------------------- 40.2/124.9 MB 4.8 MB/s eta 0:00:18\n",
      "   ------------ --------------------------- 40.5/124.9 MB 4.9 MB/s eta 0:00:18\n",
      "   ------------- -------------------------- 40.8/124.9 MB 5.0 MB/s eta 0:00:17\n",
      "   ------------- -------------------------- 41.2/124.9 MB 5.2 MB/s eta 0:00:17\n",
      "   ------------- -------------------------- 41.5/124.9 MB 5.2 MB/s eta 0:00:17\n",
      "   ------------- -------------------------- 41.8/124.9 MB 5.3 MB/s eta 0:00:16\n",
      "   ------------- -------------------------- 42.1/124.9 MB 5.4 MB/s eta 0:00:16\n",
      "   ------------- -------------------------- 42.5/124.9 MB 5.5 MB/s eta 0:00:15\n",
      "   ------------- -------------------------- 42.7/124.9 MB 5.6 MB/s eta 0:00:15\n",
      "   ------------- -------------------------- 43.1/124.9 MB 5.7 MB/s eta 0:00:15\n",
      "   ------------- -------------------------- 43.4/124.9 MB 5.8 MB/s eta 0:00:15\n",
      "   ------------- -------------------------- 43.7/124.9 MB 5.8 MB/s eta 0:00:15\n",
      "   -------------- ------------------------- 44.0/124.9 MB 5.8 MB/s eta 0:00:14\n",
      "   -------------- ------------------------- 44.3/124.9 MB 6.0 MB/s eta 0:00:14\n",
      "   -------------- ------------------------- 44.7/124.9 MB 6.1 MB/s eta 0:00:14\n",
      "   -------------- ------------------------- 45.0/124.9 MB 6.1 MB/s eta 0:00:14\n",
      "   -------------- ------------------------- 45.4/124.9 MB 6.3 MB/s eta 0:00:13\n",
      "   -------------- ------------------------- 45.8/124.9 MB 6.4 MB/s eta 0:00:13\n",
      "   -------------- ------------------------- 46.1/124.9 MB 6.5 MB/s eta 0:00:13\n",
      "   -------------- ------------------------- 46.5/124.9 MB 6.5 MB/s eta 0:00:12\n",
      "   --------------- ------------------------ 46.9/124.9 MB 6.7 MB/s eta 0:00:12\n",
      "   --------------- ------------------------ 47.2/124.9 MB 6.8 MB/s eta 0:00:12\n",
      "   --------------- ------------------------ 47.7/124.9 MB 6.9 MB/s eta 0:00:12\n",
      "   --------------- ------------------------ 48.0/124.9 MB 6.9 MB/s eta 0:00:12\n",
      "   --------------- ------------------------ 48.1/124.9 MB 6.9 MB/s eta 0:00:12\n",
      "   --------------- ------------------------ 48.5/124.9 MB 6.9 MB/s eta 0:00:12\n",
      "   --------------- ------------------------ 48.8/124.9 MB 6.9 MB/s eta 0:00:12\n",
      "   --------------- ------------------------ 49.0/124.9 MB 6.9 MB/s eta 0:00:12\n",
      "   --------------- ------------------------ 49.0/124.9 MB 6.6 MB/s eta 0:00:12\n",
      "   --------------- ------------------------ 49.1/124.9 MB 6.5 MB/s eta 0:00:12\n",
      "   --------------- ------------------------ 49.4/124.9 MB 6.5 MB/s eta 0:00:12\n",
      "   --------------- ------------------------ 49.7/124.9 MB 6.5 MB/s eta 0:00:12\n",
      "   ---------------- ----------------------- 50.0/124.9 MB 6.5 MB/s eta 0:00:12\n",
      "   ---------------- ----------------------- 50.3/124.9 MB 6.5 MB/s eta 0:00:12\n",
      "   ---------------- ----------------------- 50.6/124.9 MB 6.5 MB/s eta 0:00:12\n",
      "   ---------------- ----------------------- 50.9/124.9 MB 6.5 MB/s eta 0:00:12\n",
      "   ---------------- ----------------------- 51.2/124.9 MB 6.5 MB/s eta 0:00:12\n",
      "   ---------------- ----------------------- 51.5/124.9 MB 6.5 MB/s eta 0:00:12\n",
      "   ---------------- ----------------------- 51.9/124.9 MB 6.5 MB/s eta 0:00:12\n",
      "   ---------------- ----------------------- 52.1/124.9 MB 6.5 MB/s eta 0:00:12\n",
      "   ---------------- ----------------------- 52.5/124.9 MB 6.5 MB/s eta 0:00:12\n",
      "   ---------------- ----------------------- 52.8/124.9 MB 6.5 MB/s eta 0:00:12\n",
      "   ----------------- ---------------------- 53.1/124.9 MB 6.5 MB/s eta 0:00:12\n",
      "   ----------------- ---------------------- 53.5/124.9 MB 6.5 MB/s eta 0:00:12\n",
      "   ----------------- ---------------------- 53.7/124.9 MB 6.4 MB/s eta 0:00:12\n",
      "   ----------------- ---------------------- 54.0/124.9 MB 6.5 MB/s eta 0:00:11\n",
      "   ----------------- ---------------------- 54.4/124.9 MB 6.5 MB/s eta 0:00:11\n",
      "   ----------------- ---------------------- 54.7/124.9 MB 6.5 MB/s eta 0:00:11\n",
      "   ----------------- ---------------------- 55.0/124.9 MB 6.5 MB/s eta 0:00:11\n",
      "   ----------------- ---------------------- 55.4/124.9 MB 6.5 MB/s eta 0:00:11\n",
      "   ----------------- ---------------------- 55.6/124.9 MB 6.5 MB/s eta 0:00:11\n",
      "   ----------------- ---------------------- 56.0/124.9 MB 6.5 MB/s eta 0:00:11\n",
      "   ------------------ --------------------- 56.3/124.9 MB 6.4 MB/s eta 0:00:11\n",
      "   ------------------ --------------------- 56.7/124.9 MB 6.4 MB/s eta 0:00:11\n",
      "   ------------------ --------------------- 57.0/124.9 MB 6.5 MB/s eta 0:00:11\n",
      "   ------------------ --------------------- 57.4/124.9 MB 6.4 MB/s eta 0:00:11\n",
      "   ------------------ --------------------- 57.8/124.9 MB 6.5 MB/s eta 0:00:11\n",
      "   ------------------ --------------------- 58.1/124.9 MB 6.4 MB/s eta 0:00:11\n",
      "   ------------------ --------------------- 58.5/124.9 MB 6.5 MB/s eta 0:00:11\n",
      "   ------------------ --------------------- 58.8/124.9 MB 6.4 MB/s eta 0:00:11\n",
      "   ------------------ --------------------- 59.0/124.9 MB 6.5 MB/s eta 0:00:11\n",
      "   ------------------ --------------------- 59.3/124.9 MB 6.8 MB/s eta 0:00:10\n",
      "   ------------------ --------------------- 59.3/124.9 MB 6.8 MB/s eta 0:00:10\n",
      "   ------------------ --------------------- 59.3/124.9 MB 6.8 MB/s eta 0:00:10\n",
      "   ------------------ --------------------- 59.3/124.9 MB 6.8 MB/s eta 0:00:10\n",
      "   ------------------ --------------------- 59.3/124.9 MB 6.8 MB/s eta 0:00:10\n",
      "   ------------------ --------------------- 59.3/124.9 MB 6.8 MB/s eta 0:00:10\n",
      "   ------------------ --------------------- 59.3/124.9 MB 6.8 MB/s eta 0:00:10\n",
      "   ------------------ --------------------- 59.3/124.9 MB 6.8 MB/s eta 0:00:10\n",
      "   ------------------- -------------------- 59.3/124.9 MB 5.5 MB/s eta 0:00:12\n",
      "   ------------------- -------------------- 59.5/124.9 MB 5.4 MB/s eta 0:00:13\n",
      "   ------------------- -------------------- 59.5/124.9 MB 5.3 MB/s eta 0:00:13\n",
      "   ------------------- -------------------- 59.5/124.9 MB 5.2 MB/s eta 0:00:13\n",
      "   ------------------- -------------------- 59.7/124.9 MB 5.1 MB/s eta 0:00:13\n",
      "   ------------------- -------------------- 59.9/124.9 MB 5.1 MB/s eta 0:00:13\n",
      "   ------------------- -------------------- 60.1/124.9 MB 5.1 MB/s eta 0:00:13\n",
      "   ------------------- -------------------- 60.4/124.9 MB 5.1 MB/s eta 0:00:13\n",
      "   ------------------- -------------------- 60.5/124.9 MB 5.0 MB/s eta 0:00:13\n",
      "   ------------------- -------------------- 60.7/124.9 MB 5.0 MB/s eta 0:00:13\n",
      "   ------------------- -------------------- 60.9/124.9 MB 4.9 MB/s eta 0:00:14\n",
      "   ------------------- -------------------- 61.2/124.9 MB 4.9 MB/s eta 0:00:13\n",
      "   ------------------- -------------------- 61.3/124.9 MB 4.9 MB/s eta 0:00:14\n",
      "   ------------------- -------------------- 61.5/124.9 MB 4.8 MB/s eta 0:00:14\n",
      "   ------------------- -------------------- 61.7/124.9 MB 4.8 MB/s eta 0:00:14\n",
      "   ------------------- -------------------- 62.0/124.9 MB 4.7 MB/s eta 0:00:14\n",
      "   ------------------- -------------------- 62.2/124.9 MB 4.7 MB/s eta 0:00:14\n",
      "   ------------------- -------------------- 62.4/124.9 MB 4.7 MB/s eta 0:00:14\n",
      "   -------------------- ------------------- 62.6/124.9 MB 4.6 MB/s eta 0:00:14\n",
      "   -------------------- ------------------- 62.9/124.9 MB 4.6 MB/s eta 0:00:14\n",
      "   -------------------- ------------------- 63.2/124.9 MB 4.6 MB/s eta 0:00:14\n",
      "   -------------------- ------------------- 63.4/124.9 MB 4.6 MB/s eta 0:00:14\n",
      "   -------------------- ------------------- 63.6/124.9 MB 4.5 MB/s eta 0:00:14\n",
      "   -------------------- ------------------- 63.8/124.9 MB 4.5 MB/s eta 0:00:14\n",
      "   -------------------- ------------------- 64.1/124.9 MB 4.5 MB/s eta 0:00:14\n",
      "   -------------------- ------------------- 64.4/124.9 MB 4.5 MB/s eta 0:00:14\n",
      "   -------------------- ------------------- 64.7/124.9 MB 4.5 MB/s eta 0:00:14\n",
      "   -------------------- ------------------- 64.9/124.9 MB 4.5 MB/s eta 0:00:14\n",
      "   -------------------- ------------------- 65.0/124.9 MB 4.4 MB/s eta 0:00:14\n",
      "   -------------------- ------------------- 65.1/124.9 MB 4.4 MB/s eta 0:00:14\n",
      "   -------------------- ------------------- 65.4/124.9 MB 4.3 MB/s eta 0:00:14\n",
      "   --------------------- ------------------ 65.6/124.9 MB 4.3 MB/s eta 0:00:14\n",
      "   --------------------- ------------------ 65.8/124.9 MB 4.3 MB/s eta 0:00:14\n",
      "   --------------------- ------------------ 66.0/124.9 MB 4.3 MB/s eta 0:00:14\n",
      "   --------------------- ------------------ 66.2/124.9 MB 4.2 MB/s eta 0:00:14\n",
      "   --------------------- ------------------ 66.4/124.9 MB 4.2 MB/s eta 0:00:15\n",
      "   --------------------- ------------------ 66.5/124.9 MB 4.1 MB/s eta 0:00:15\n",
      "   --------------------- ------------------ 66.6/124.9 MB 4.1 MB/s eta 0:00:15\n",
      "   --------------------- ------------------ 66.7/124.9 MB 4.0 MB/s eta 0:00:15\n",
      "   --------------------- ------------------ 66.9/124.9 MB 4.0 MB/s eta 0:00:15\n",
      "   --------------------- ------------------ 67.0/124.9 MB 3.9 MB/s eta 0:00:15\n",
      "   --------------------- ------------------ 67.2/124.9 MB 3.9 MB/s eta 0:00:15\n",
      "   --------------------- ------------------ 67.4/124.9 MB 3.9 MB/s eta 0:00:15\n",
      "   --------------------- ------------------ 67.5/124.9 MB 3.8 MB/s eta 0:00:15\n",
      "   --------------------- ------------------ 67.7/124.9 MB 3.8 MB/s eta 0:00:16\n",
      "   --------------------- ------------------ 67.9/124.9 MB 3.8 MB/s eta 0:00:16\n",
      "   --------------------- ------------------ 68.1/124.9 MB 3.7 MB/s eta 0:00:16\n",
      "   --------------------- ------------------ 68.3/124.9 MB 3.7 MB/s eta 0:00:16\n",
      "   --------------------- ------------------ 68.4/124.9 MB 3.7 MB/s eta 0:00:16\n",
      "   --------------------- ------------------ 68.6/124.9 MB 3.6 MB/s eta 0:00:16\n",
      "   ---------------------- ----------------- 68.8/124.9 MB 3.6 MB/s eta 0:00:16\n",
      "   ---------------------- ----------------- 69.0/124.9 MB 3.6 MB/s eta 0:00:16\n",
      "   ---------------------- ----------------- 69.2/124.9 MB 3.6 MB/s eta 0:00:16\n",
      "   ---------------------- ----------------- 69.5/124.9 MB 3.6 MB/s eta 0:00:16\n",
      "   ---------------------- ----------------- 69.7/124.9 MB 4.1 MB/s eta 0:00:14\n",
      "   ---------------------- ----------------- 69.9/124.9 MB 4.3 MB/s eta 0:00:13\n",
      "   ---------------------- ----------------- 70.1/124.9 MB 4.3 MB/s eta 0:00:13\n",
      "   ---------------------- ----------------- 70.3/124.9 MB 4.3 MB/s eta 0:00:13\n",
      "   ---------------------- ----------------- 70.6/124.9 MB 4.3 MB/s eta 0:00:13\n",
      "   ---------------------- ----------------- 70.8/124.9 MB 4.3 MB/s eta 0:00:13\n",
      "   ---------------------- ----------------- 71.0/124.9 MB 4.3 MB/s eta 0:00:13\n",
      "   ---------------------- ----------------- 71.2/124.9 MB 4.3 MB/s eta 0:00:13\n",
      "   ---------------------- ----------------- 71.5/124.9 MB 4.3 MB/s eta 0:00:13\n",
      "   ---------------------- ----------------- 71.7/124.9 MB 4.4 MB/s eta 0:00:13\n",
      "   ----------------------- ---------------- 72.0/124.9 MB 4.4 MB/s eta 0:00:13\n",
      "   ----------------------- ---------------- 72.2/124.9 MB 4.4 MB/s eta 0:00:12\n",
      "   ----------------------- ---------------- 72.4/124.9 MB 4.4 MB/s eta 0:00:12\n",
      "   ----------------------- ---------------- 72.6/124.9 MB 4.4 MB/s eta 0:00:12\n",
      "   ----------------------- ---------------- 72.9/124.9 MB 4.4 MB/s eta 0:00:12\n",
      "   ----------------------- ---------------- 73.2/124.9 MB 4.4 MB/s eta 0:00:12\n",
      "   ----------------------- ---------------- 73.4/124.9 MB 4.4 MB/s eta 0:00:12\n",
      "   ----------------------- ---------------- 73.5/124.9 MB 4.4 MB/s eta 0:00:12\n",
      "   ----------------------- ---------------- 73.9/124.9 MB 4.4 MB/s eta 0:00:12\n",
      "   ----------------------- ---------------- 74.2/124.9 MB 4.4 MB/s eta 0:00:12\n",
      "   ----------------------- ---------------- 74.4/124.9 MB 4.4 MB/s eta 0:00:12\n",
      "   ----------------------- ---------------- 74.7/124.9 MB 4.4 MB/s eta 0:00:12\n",
      "   ------------------------ --------------- 75.0/124.9 MB 4.5 MB/s eta 0:00:12\n",
      "   ------------------------ --------------- 75.3/124.9 MB 4.5 MB/s eta 0:00:12\n",
      "   ------------------------ --------------- 75.5/124.9 MB 4.5 MB/s eta 0:00:12\n",
      "   ------------------------ --------------- 75.5/124.9 MB 4.5 MB/s eta 0:00:12\n",
      "   ------------------------ --------------- 75.6/124.9 MB 4.3 MB/s eta 0:00:12\n",
      "   ------------------------ --------------- 75.9/124.9 MB 4.4 MB/s eta 0:00:12\n",
      "   ------------------------ --------------- 76.1/124.9 MB 4.4 MB/s eta 0:00:12\n",
      "   ------------------------ --------------- 76.4/124.9 MB 4.5 MB/s eta 0:00:11\n",
      "   ------------------------ --------------- 76.7/124.9 MB 4.5 MB/s eta 0:00:11\n",
      "   ------------------------ --------------- 77.0/124.9 MB 4.7 MB/s eta 0:00:11\n",
      "   ------------------------ --------------- 77.3/124.9 MB 4.7 MB/s eta 0:00:11\n",
      "   ------------------------ --------------- 77.4/124.9 MB 4.8 MB/s eta 0:00:10\n",
      "   ------------------------ --------------- 77.7/124.9 MB 4.8 MB/s eta 0:00:10\n",
      "   ------------------------ --------------- 77.8/124.9 MB 4.8 MB/s eta 0:00:10\n",
      "   ------------------------ --------------- 78.0/124.9 MB 4.8 MB/s eta 0:00:10\n",
      "   ------------------------- -------------- 78.1/124.9 MB 4.8 MB/s eta 0:00:10\n",
      "   ------------------------- -------------- 78.3/124.9 MB 4.8 MB/s eta 0:00:10\n",
      "   ------------------------- -------------- 78.5/124.9 MB 4.8 MB/s eta 0:00:10\n",
      "   ------------------------- -------------- 78.6/124.9 MB 4.7 MB/s eta 0:00:10\n",
      "   ------------------------- -------------- 78.8/124.9 MB 4.7 MB/s eta 0:00:10\n",
      "   ------------------------- -------------- 79.0/124.9 MB 4.7 MB/s eta 0:00:10\n",
      "   ------------------------- -------------- 79.2/124.9 MB 4.7 MB/s eta 0:00:10\n",
      "   ------------------------- -------------- 79.4/124.9 MB 4.7 MB/s eta 0:00:10\n",
      "   ------------------------- -------------- 79.6/124.9 MB 4.7 MB/s eta 0:00:10\n",
      "   ------------------------- -------------- 79.8/124.9 MB 4.7 MB/s eta 0:00:10\n",
      "   ------------------------- -------------- 80.0/124.9 MB 4.7 MB/s eta 0:00:10\n",
      "   ------------------------- -------------- 80.2/124.9 MB 4.7 MB/s eta 0:00:10\n",
      "   ------------------------- -------------- 80.4/124.9 MB 4.7 MB/s eta 0:00:10\n",
      "   ------------------------- -------------- 80.6/124.9 MB 4.7 MB/s eta 0:00:10\n",
      "   ------------------------- -------------- 80.8/124.9 MB 4.7 MB/s eta 0:00:10\n",
      "   ------------------------- -------------- 81.0/124.9 MB 4.7 MB/s eta 0:00:10\n",
      "   -------------------------- ------------- 81.3/124.9 MB 4.7 MB/s eta 0:00:10\n",
      "   -------------------------- ------------- 81.5/124.9 MB 4.7 MB/s eta 0:00:10\n",
      "   -------------------------- ------------- 81.7/124.9 MB 4.7 MB/s eta 0:00:10\n",
      "   -------------------------- ------------- 82.0/124.9 MB 4.7 MB/s eta 0:00:10\n",
      "   -------------------------- ------------- 82.2/124.9 MB 4.7 MB/s eta 0:00:10\n",
      "   -------------------------- ------------- 82.5/124.9 MB 4.7 MB/s eta 0:00:10\n",
      "   -------------------------- ------------- 82.7/124.9 MB 4.7 MB/s eta 0:00:10\n",
      "   -------------------------- ------------- 82.9/124.9 MB 4.7 MB/s eta 0:00:09\n",
      "   -------------------------- ------------- 83.2/124.9 MB 4.7 MB/s eta 0:00:09\n",
      "   -------------------------- ------------- 83.4/124.9 MB 4.7 MB/s eta 0:00:09\n",
      "   -------------------------- ------------- 83.7/124.9 MB 4.7 MB/s eta 0:00:09\n",
      "   -------------------------- ------------- 83.9/124.9 MB 4.7 MB/s eta 0:00:09\n",
      "   -------------------------- ------------- 84.2/124.9 MB 4.7 MB/s eta 0:00:09\n",
      "   --------------------------- ------------ 84.5/124.9 MB 4.7 MB/s eta 0:00:09\n",
      "   --------------------------- ------------ 84.8/124.9 MB 4.7 MB/s eta 0:00:09\n",
      "   --------------------------- ------------ 85.0/124.9 MB 4.7 MB/s eta 0:00:09\n",
      "   --------------------------- ------------ 85.3/124.9 MB 4.7 MB/s eta 0:00:09\n",
      "   --------------------------- ------------ 85.6/124.9 MB 4.7 MB/s eta 0:00:09\n",
      "   --------------------------- ------------ 85.9/124.9 MB 4.9 MB/s eta 0:00:08\n",
      "   --------------------------- ------------ 86.1/124.9 MB 4.9 MB/s eta 0:00:08\n",
      "   --------------------------- ------------ 86.4/124.9 MB 4.9 MB/s eta 0:00:08\n",
      "   --------------------------- ------------ 86.7/124.9 MB 4.9 MB/s eta 0:00:08\n",
      "   --------------------------- ------------ 86.9/124.9 MB 4.9 MB/s eta 0:00:08\n",
      "   --------------------------- ------------ 87.2/124.9 MB 4.9 MB/s eta 0:00:08\n",
      "   --------------------------- ------------ 87.4/124.9 MB 4.9 MB/s eta 0:00:08\n",
      "   ---------------------------- ----------- 87.7/124.9 MB 4.9 MB/s eta 0:00:08\n",
      "   ---------------------------- ----------- 88.0/124.9 MB 5.0 MB/s eta 0:00:08\n",
      "   ---------------------------- ----------- 88.3/124.9 MB 5.1 MB/s eta 0:00:08\n",
      "   ---------------------------- ----------- 88.6/124.9 MB 5.2 MB/s eta 0:00:08\n",
      "   ---------------------------- ----------- 88.9/124.9 MB 5.3 MB/s eta 0:00:07\n",
      "   ---------------------------- ----------- 89.2/124.9 MB 5.4 MB/s eta 0:00:07\n",
      "   ---------------------------- ----------- 89.6/124.9 MB 5.5 MB/s eta 0:00:07\n",
      "   ---------------------------- ----------- 89.9/124.9 MB 5.5 MB/s eta 0:00:07\n",
      "   ---------------------------- ----------- 90.2/124.9 MB 5.6 MB/s eta 0:00:07\n",
      "   ---------------------------- ----------- 90.6/124.9 MB 5.7 MB/s eta 0:00:06\n",
      "   ----------------------------- ---------- 90.9/124.9 MB 5.8 MB/s eta 0:00:06\n",
      "   ----------------------------- ---------- 91.2/124.9 MB 6.0 MB/s eta 0:00:06\n",
      "   ----------------------------- ---------- 91.6/124.9 MB 6.0 MB/s eta 0:00:06\n",
      "   ----------------------------- ---------- 91.9/124.9 MB 6.1 MB/s eta 0:00:06\n",
      "   ----------------------------- ---------- 92.2/124.9 MB 6.1 MB/s eta 0:00:06\n",
      "   ----------------------------- ---------- 92.5/124.9 MB 6.2 MB/s eta 0:00:06\n",
      "   ----------------------------- ---------- 92.9/124.9 MB 6.3 MB/s eta 0:00:06\n",
      "   ----------------------------- ---------- 93.3/124.9 MB 6.4 MB/s eta 0:00:05\n",
      "   ----------------------------- ---------- 93.6/124.9 MB 6.4 MB/s eta 0:00:05\n",
      "   ------------------------------ --------- 94.0/124.9 MB 6.5 MB/s eta 0:00:05\n",
      "   ------------------------------ --------- 94.3/124.9 MB 6.5 MB/s eta 0:00:05\n",
      "   ------------------------------ --------- 94.7/124.9 MB 6.7 MB/s eta 0:00:05\n",
      "   ------------------------------ --------- 95.1/124.9 MB 6.7 MB/s eta 0:00:05\n",
      "   ------------------------------ --------- 95.5/124.9 MB 6.8 MB/s eta 0:00:05\n",
      "   ------------------------------ --------- 95.9/124.9 MB 6.9 MB/s eta 0:00:05\n",
      "   ------------------------------ --------- 96.3/124.9 MB 7.0 MB/s eta 0:00:05\n",
      "   ------------------------------ --------- 96.7/124.9 MB 7.1 MB/s eta 0:00:04\n",
      "   ------------------------------- -------- 97.0/124.9 MB 7.3 MB/s eta 0:00:04\n",
      "   ------------------------------- -------- 97.4/124.9 MB 7.4 MB/s eta 0:00:04\n",
      "   ------------------------------- -------- 97.7/124.9 MB 7.4 MB/s eta 0:00:04\n",
      "   ------------------------------- -------- 98.2/124.9 MB 7.5 MB/s eta 0:00:04\n",
      "   ------------------------------- -------- 98.5/124.9 MB 7.6 MB/s eta 0:00:04\n",
      "   ------------------------------- -------- 98.9/124.9 MB 7.6 MB/s eta 0:00:04\n",
      "   ------------------------------- -------- 99.2/124.9 MB 7.6 MB/s eta 0:00:04\n",
      "   ------------------------------- -------- 99.6/124.9 MB 7.6 MB/s eta 0:00:04\n",
      "   -------------------------------- ------- 100.1/124.9 MB 7.8 MB/s eta 0:00:04\n",
      "   -------------------------------- ------- 100.5/124.9 MB 7.8 MB/s eta 0:00:04\n",
      "   -------------------------------- ------- 100.9/124.9 MB 8.0 MB/s eta 0:00:04\n",
      "   -------------------------------- ------- 101.3/124.9 MB 7.9 MB/s eta 0:00:03\n",
      "   -------------------------------- ------- 101.7/124.9 MB 8.1 MB/s eta 0:00:03\n",
      "   -------------------------------- ------- 102.1/124.9 MB 8.0 MB/s eta 0:00:03\n",
      "   -------------------------------- ------- 102.3/124.9 MB 8.0 MB/s eta 0:00:03\n",
      "   -------------------------------- ------- 102.5/124.9 MB 8.0 MB/s eta 0:00:03\n",
      "   -------------------------------- ------- 102.8/124.9 MB 7.8 MB/s eta 0:00:03\n",
      "   -------------------------------- ------- 103.0/124.9 MB 7.7 MB/s eta 0:00:03\n",
      "   --------------------------------- ------ 103.2/124.9 MB 7.6 MB/s eta 0:00:03\n",
      "   --------------------------------- ------ 103.5/124.9 MB 7.5 MB/s eta 0:00:03\n",
      "   --------------------------------- ------ 103.7/124.9 MB 7.4 MB/s eta 0:00:03\n",
      "   --------------------------------- ------ 103.9/124.9 MB 7.4 MB/s eta 0:00:03\n",
      "   --------------------------------- ------ 104.2/124.9 MB 7.4 MB/s eta 0:00:03\n",
      "   --------------------------------- ------ 104.4/124.9 MB 7.3 MB/s eta 0:00:03\n",
      "   --------------------------------- ------ 104.7/124.9 MB 7.2 MB/s eta 0:00:03\n",
      "   --------------------------------- ------ 104.9/124.9 MB 7.1 MB/s eta 0:00:03\n",
      "   --------------------------------- ------ 105.2/124.9 MB 7.0 MB/s eta 0:00:03\n",
      "   --------------------------------- ------ 105.5/124.9 MB 7.0 MB/s eta 0:00:03\n",
      "   --------------------------------- ------ 105.7/124.9 MB 6.8 MB/s eta 0:00:03\n",
      "   --------------------------------- ------ 106.0/124.9 MB 6.8 MB/s eta 0:00:03\n",
      "   ---------------------------------- ----- 106.2/124.9 MB 6.7 MB/s eta 0:00:03\n",
      "   ---------------------------------- ----- 106.5/124.9 MB 6.7 MB/s eta 0:00:03\n",
      "   ---------------------------------- ----- 106.8/124.9 MB 6.6 MB/s eta 0:00:03\n",
      "   ---------------------------------- ----- 107.0/124.9 MB 6.5 MB/s eta 0:00:03\n",
      "   ---------------------------------- ----- 107.3/124.9 MB 6.5 MB/s eta 0:00:03\n",
      "   ---------------------------------- ----- 107.5/124.9 MB 6.4 MB/s eta 0:00:03\n",
      "   ---------------------------------- ----- 107.8/124.9 MB 6.4 MB/s eta 0:00:03\n",
      "   ---------------------------------- ----- 108.1/124.9 MB 6.4 MB/s eta 0:00:03\n",
      "   ---------------------------------- ----- 108.3/124.9 MB 6.2 MB/s eta 0:00:03\n",
      "   ---------------------------------- ----- 108.6/124.9 MB 6.2 MB/s eta 0:00:03\n",
      "   ---------------------------------- ----- 108.9/124.9 MB 6.2 MB/s eta 0:00:03\n",
      "   ---------------------------------- ----- 109.2/124.9 MB 6.1 MB/s eta 0:00:03\n",
      "   ----------------------------------- ---- 109.5/124.9 MB 6.2 MB/s eta 0:00:03\n",
      "   ----------------------------------- ---- 109.7/124.9 MB 6.0 MB/s eta 0:00:03\n",
      "   ----------------------------------- ---- 109.9/124.9 MB 6.0 MB/s eta 0:00:03\n",
      "   ----------------------------------- ---- 110.1/124.9 MB 5.8 MB/s eta 0:00:03\n",
      "   ----------------------------------- ---- 110.3/124.9 MB 5.8 MB/s eta 0:00:03\n",
      "   ----------------------------------- ---- 110.5/124.9 MB 5.7 MB/s eta 0:00:03\n",
      "   ----------------------------------- ---- 110.8/124.9 MB 5.6 MB/s eta 0:00:03\n",
      "   ----------------------------------- ---- 110.9/124.9 MB 5.6 MB/s eta 0:00:03\n",
      "   ----------------------------------- ---- 111.2/124.9 MB 5.5 MB/s eta 0:00:03\n",
      "   ----------------------------------- ---- 111.3/124.9 MB 5.5 MB/s eta 0:00:03\n",
      "   ----------------------------------- ---- 111.5/124.9 MB 5.4 MB/s eta 0:00:03\n",
      "   ----------------------------------- ---- 111.7/124.9 MB 5.3 MB/s eta 0:00:03\n",
      "   ----------------------------------- ---- 111.9/124.9 MB 5.2 MB/s eta 0:00:03\n",
      "   ----------------------------------- ---- 112.1/124.9 MB 5.2 MB/s eta 0:00:03\n",
      "   ----------------------------------- ---- 112.3/124.9 MB 5.1 MB/s eta 0:00:03\n",
      "   ------------------------------------ --- 112.5/124.9 MB 5.1 MB/s eta 0:00:03\n",
      "   ------------------------------------ --- 112.7/124.9 MB 5.1 MB/s eta 0:00:03\n",
      "   ------------------------------------ --- 112.9/124.9 MB 5.0 MB/s eta 0:00:03\n",
      "   ------------------------------------ --- 113.1/124.9 MB 5.0 MB/s eta 0:00:03\n",
      "   ------------------------------------ --- 113.3/124.9 MB 5.0 MB/s eta 0:00:03\n",
      "   ------------------------------------ --- 113.5/124.9 MB 5.0 MB/s eta 0:00:03\n",
      "   ------------------------------------ --- 113.7/124.9 MB 5.0 MB/s eta 0:00:03\n",
      "   ------------------------------------ --- 114.0/124.9 MB 5.0 MB/s eta 0:00:03\n",
      "   ------------------------------------ --- 114.2/124.9 MB 5.0 MB/s eta 0:00:03\n",
      "   ------------------------------------ --- 114.4/124.9 MB 5.0 MB/s eta 0:00:03\n",
      "   ------------------------------------ --- 114.7/124.9 MB 5.0 MB/s eta 0:00:03\n",
      "   ------------------------------------ --- 114.9/124.9 MB 5.0 MB/s eta 0:00:03\n",
      "   ------------------------------------ --- 115.1/124.9 MB 5.0 MB/s eta 0:00:02\n",
      "   ------------------------------------ --- 115.3/124.9 MB 4.9 MB/s eta 0:00:02\n",
      "   ------------------------------------ --- 115.4/124.9 MB 4.9 MB/s eta 0:00:02\n",
      "   ------------------------------------- -- 115.6/124.9 MB 4.8 MB/s eta 0:00:02\n",
      "   ------------------------------------- -- 115.8/124.9 MB 4.8 MB/s eta 0:00:02\n",
      "   ------------------------------------- -- 116.1/124.9 MB 4.8 MB/s eta 0:00:02\n",
      "   ------------------------------------- -- 116.3/124.9 MB 4.8 MB/s eta 0:00:02\n",
      "   ------------------------------------- -- 116.6/124.9 MB 4.8 MB/s eta 0:00:02\n",
      "   ------------------------------------- -- 116.8/124.9 MB 4.8 MB/s eta 0:00:02\n",
      "   ------------------------------------- -- 117.0/124.9 MB 4.8 MB/s eta 0:00:02\n",
      "   ------------------------------------- -- 117.2/124.9 MB 4.8 MB/s eta 0:00:02\n",
      "   ------------------------------------- -- 117.4/124.9 MB 4.7 MB/s eta 0:00:02\n",
      "   ------------------------------------- -- 117.5/124.9 MB 4.6 MB/s eta 0:00:02\n",
      "   ------------------------------------- -- 117.6/124.9 MB 4.6 MB/s eta 0:00:02\n",
      "   ------------------------------------- -- 117.6/124.9 MB 4.5 MB/s eta 0:00:02\n",
      "   ------------------------------------- -- 117.7/124.9 MB 4.5 MB/s eta 0:00:02\n",
      "   ------------------------------------- -- 117.8/124.9 MB 4.4 MB/s eta 0:00:02\n",
      "   ------------------------------------- -- 117.9/124.9 MB 4.3 MB/s eta 0:00:02\n",
      "   ------------------------------------- -- 118.0/124.9 MB 4.3 MB/s eta 0:00:02\n",
      "   ------------------------------------- -- 118.0/124.9 MB 4.2 MB/s eta 0:00:02\n",
      "   ------------------------------------- -- 118.1/124.9 MB 4.1 MB/s eta 0:00:02\n",
      "   ------------------------------------- -- 118.2/124.9 MB 4.1 MB/s eta 0:00:02\n",
      "   ------------------------------------- -- 118.2/124.9 MB 4.0 MB/s eta 0:00:02\n",
      "   ------------------------------------- -- 118.3/124.9 MB 4.0 MB/s eta 0:00:02\n",
      "   ------------------------------------- -- 118.4/124.9 MB 3.9 MB/s eta 0:00:02\n",
      "   ------------------------------------- -- 118.4/124.9 MB 3.9 MB/s eta 0:00:02\n",
      "   ------------------------------------- -- 118.4/124.9 MB 3.8 MB/s eta 0:00:02\n",
      "   ------------------------------------- -- 118.5/124.9 MB 3.8 MB/s eta 0:00:02\n",
      "   ------------------------------------- -- 118.5/124.9 MB 3.7 MB/s eta 0:00:02\n",
      "   ------------------------------------- -- 118.5/124.9 MB 3.6 MB/s eta 0:00:02\n",
      "   ------------------------------------- -- 118.6/124.9 MB 3.6 MB/s eta 0:00:02\n",
      "   ------------------------------------- -- 118.6/124.9 MB 3.6 MB/s eta 0:00:02\n",
      "   ------------------------------------- -- 118.6/124.9 MB 3.5 MB/s eta 0:00:02\n",
      "   -------------------------------------- - 118.7/124.9 MB 3.4 MB/s eta 0:00:02\n",
      "   -------------------------------------- - 118.7/124.9 MB 3.4 MB/s eta 0:00:02\n",
      "   -------------------------------------- - 118.8/124.9 MB 3.4 MB/s eta 0:00:02\n",
      "   -------------------------------------- - 118.9/124.9 MB 3.3 MB/s eta 0:00:02\n",
      "   -------------------------------------- - 119.0/124.9 MB 3.3 MB/s eta 0:00:02\n",
      "   -------------------------------------- - 119.0/124.9 MB 3.3 MB/s eta 0:00:02\n",
      "   -------------------------------------- - 119.1/124.9 MB 3.2 MB/s eta 0:00:02\n",
      "   -------------------------------------- - 119.2/124.9 MB 3.2 MB/s eta 0:00:02\n",
      "   -------------------------------------- - 119.2/124.9 MB 3.1 MB/s eta 0:00:02\n",
      "   -------------------------------------- - 119.3/124.9 MB 3.1 MB/s eta 0:00:02\n",
      "   -------------------------------------- - 119.3/124.9 MB 3.1 MB/s eta 0:00:02\n",
      "   -------------------------------------- - 119.5/124.9 MB 3.1 MB/s eta 0:00:02\n",
      "   -------------------------------------- - 119.6/124.9 MB 3.0 MB/s eta 0:00:02\n",
      "   -------------------------------------- - 119.7/124.9 MB 3.0 MB/s eta 0:00:02\n",
      "   -------------------------------------- - 119.8/124.9 MB 3.0 MB/s eta 0:00:02\n",
      "   -------------------------------------- - 119.9/124.9 MB 3.0 MB/s eta 0:00:02\n",
      "   -------------------------------------- - 120.0/124.9 MB 2.9 MB/s eta 0:00:02\n",
      "   -------------------------------------- - 120.1/124.9 MB 2.9 MB/s eta 0:00:02\n",
      "   -------------------------------------- - 120.2/124.9 MB 2.9 MB/s eta 0:00:02\n",
      "   -------------------------------------- - 120.4/124.9 MB 2.9 MB/s eta 0:00:02\n",
      "   -------------------------------------- - 120.5/124.9 MB 2.9 MB/s eta 0:00:02\n",
      "   -------------------------------------- - 120.6/124.9 MB 2.9 MB/s eta 0:00:02\n",
      "   -------------------------------------- - 120.7/124.9 MB 2.8 MB/s eta 0:00:02\n",
      "   -------------------------------------- - 120.9/124.9 MB 2.8 MB/s eta 0:00:02\n",
      "   -------------------------------------- - 121.0/124.9 MB 2.8 MB/s eta 0:00:02\n",
      "   -------------------------------------- - 121.2/124.9 MB 2.8 MB/s eta 0:00:02\n",
      "   -------------------------------------- - 121.3/124.9 MB 2.8 MB/s eta 0:00:02\n",
      "   -------------------------------------- - 121.5/124.9 MB 2.8 MB/s eta 0:00:02\n",
      "   -------------------------------------- - 121.7/124.9 MB 2.8 MB/s eta 0:00:02\n",
      "   ---------------------------------------  121.8/124.9 MB 2.8 MB/s eta 0:00:02\n",
      "   ---------------------------------------  122.0/124.9 MB 2.8 MB/s eta 0:00:02\n",
      "   ---------------------------------------  122.2/124.9 MB 2.8 MB/s eta 0:00:01\n",
      "   ---------------------------------------  122.3/124.9 MB 2.8 MB/s eta 0:00:01\n",
      "   ---------------------------------------  122.5/124.9 MB 2.8 MB/s eta 0:00:01\n",
      "   ---------------------------------------  122.6/124.9 MB 2.7 MB/s eta 0:00:01\n",
      "   ---------------------------------------  122.8/124.9 MB 2.7 MB/s eta 0:00:01\n",
      "   ---------------------------------------  122.9/124.9 MB 2.7 MB/s eta 0:00:01\n",
      "   ---------------------------------------  123.0/124.9 MB 2.7 MB/s eta 0:00:01\n",
      "   ---------------------------------------  123.1/124.9 MB 2.7 MB/s eta 0:00:01\n",
      "   ---------------------------------------  123.2/124.9 MB 2.7 MB/s eta 0:00:01\n",
      "   ---------------------------------------  123.3/124.9 MB 2.7 MB/s eta 0:00:01\n",
      "   ---------------------------------------  123.4/124.9 MB 2.7 MB/s eta 0:00:01\n",
      "   ---------------------------------------  123.5/124.9 MB 2.6 MB/s eta 0:00:01\n",
      "   ---------------------------------------  123.6/124.9 MB 2.6 MB/s eta 0:00:01\n",
      "   ---------------------------------------  123.7/124.9 MB 2.6 MB/s eta 0:00:01\n",
      "   ---------------------------------------  123.8/124.9 MB 2.6 MB/s eta 0:00:01\n",
      "   ---------------------------------------  124.0/124.9 MB 2.6 MB/s eta 0:00:01\n",
      "   ---------------------------------------  124.1/124.9 MB 2.6 MB/s eta 0:00:01\n",
      "   ---------------------------------------  124.2/124.9 MB 2.6 MB/s eta 0:00:01\n",
      "   ---------------------------------------  124.4/124.9 MB 2.5 MB/s eta 0:00:01\n",
      "   ---------------------------------------  124.5/124.9 MB 2.5 MB/s eta 0:00:01\n",
      "   ---------------------------------------  124.7/124.9 MB 2.5 MB/s eta 0:00:01\n",
      "   ---------------------------------------  124.8/124.9 MB 2.5 MB/s eta 0:00:01\n",
      "   ---------------------------------------  124.9/124.9 MB 2.5 MB/s eta 0:00:01\n",
      "   ---------------------------------------  124.9/124.9 MB 2.5 MB/s eta 0:00:01\n",
      "   ---------------------------------------  124.9/124.9 MB 2.5 MB/s eta 0:00:01\n",
      "   ---------------------------------------  124.9/124.9 MB 2.5 MB/s eta 0:00:01\n",
      "   ---------------------------------------  124.9/124.9 MB 2.5 MB/s eta 0:00:01\n",
      "   ---------------------------------------  124.9/124.9 MB 2.5 MB/s eta 0:00:01\n",
      "   ---------------------------------------  124.9/124.9 MB 2.5 MB/s eta 0:00:01\n",
      "   ---------------------------------------  124.9/124.9 MB 2.5 MB/s eta 0:00:01\n",
      "   ---------------------------------------  124.9/124.9 MB 2.5 MB/s eta 0:00:01\n",
      "   ---------------------------------------  124.9/124.9 MB 2.5 MB/s eta 0:00:01\n",
      "   ---------------------------------------  124.9/124.9 MB 2.5 MB/s eta 0:00:01\n",
      "   ---------------------------------------  124.9/124.9 MB 2.5 MB/s eta 0:00:01\n",
      "   ---------------------------------------  124.9/124.9 MB 2.5 MB/s eta 0:00:01\n",
      "   ---------------------------------------  124.9/124.9 MB 2.5 MB/s eta 0:00:01\n",
      "   ---------------------------------------  124.9/124.9 MB 2.5 MB/s eta 0:00:01\n",
      "   ---------------------------------------  124.9/124.9 MB 2.5 MB/s eta 0:00:01\n",
      "   ---------------------------------------  124.9/124.9 MB 2.5 MB/s eta 0:00:01\n",
      "   ---------------------------------------  124.9/124.9 MB 2.5 MB/s eta 0:00:01\n",
      "   ---------------------------------------  124.9/124.9 MB 2.5 MB/s eta 0:00:01\n",
      "   ---------------------------------------- 124.9/124.9 MB 2.0 MB/s eta 0:00:00\n",
      "Installing collected packages: xgboost\n",
      "Successfully installed xgboost-2.1.1\n",
      "Note: you may need to restart the kernel to use updated packages.\n"
     ]
    }
   ],
   "source": [
    "pip install xgboost\n"
   ]
  },
  {
   "cell_type": "code",
   "execution_count": 67,
   "id": "507aab56",
   "metadata": {},
   "outputs": [],
   "source": [
    "import xgboost as xgb\n",
    "from sklearn.model_selection import train_test_split\n",
    "from sklearn.model_selection import RandomizedSearchCV\n",
    "\n",
    "\n",
    "# Train-Test Split\n",
    "X_train, X_test, y_train, y_test = train_test_split(X, y, test_size=0.2, random_state=42)\n"
   ]
  },
  {
   "cell_type": "code",
   "execution_count": 68,
   "id": "ef6e4efa",
   "metadata": {},
   "outputs": [],
   "source": [
    "#  parameter grid for random search\n",
    "param_grid = {\n",
    "    'eta': [0.01, 0.05, 0.1, 0.3],  # learning rate\n",
    "    'max_depth': [3, 5, 7, 10],      # maximum tree depth\n",
    "    'subsample': [0.6, 0.8, 1.0],    # row subsampling\n",
    "    'colsample_bytree': [0.6, 0.8, 1.0],  # column subsampling\n",
    "    'min_child_weight': [1, 5, 10],  # minimum child weight\n",
    "    'lambda': [0.01, 0.1, 1],        # L2 regularization\n",
    "    'alpha': [0.01, 0.1, 1],         # L1 regularization\n",
    "    'n_estimators': [200, 500, 1000], # Number of trees \n",
    "}\n",
    "\n",
    "# Convert data into DMatrix (XGBoost’s preferred format)\n",
    "dtrain = xgb.DMatrix(X_train, label=y_train)\n"
   ]
  },
  {
   "cell_type": "code",
   "execution_count": 69,
   "id": "3113c87b",
   "metadata": {},
   "outputs": [
    {
     "name": "stdout",
     "output_type": "stream",
     "text": [
      "Iteration 1: Testing parameters {'eta': 0.01, 'max_depth': 10, 'subsample': 0.8, 'colsample_bytree': 0.8, 'min_child_weight': 10, 'lambda': 0.1, 'alpha': 0.01, 'n_estimators': 1000}\n"
     ]
    },
    {
     "name": "stderr",
     "output_type": "stream",
     "text": [
      "C:\\Users\\bhand\\anaconda3\\Lib\\site-packages\\xgboost\\core.py:158: UserWarning: [18:56:55] WARNING: C:\\buildkite-agent\\builds\\buildkite-windows-cpu-autoscaling-group-i-0015a694724fa8361-1\\xgboost\\xgboost-ci-windows\\src\\learner.cc:740: \n",
      "Parameters: { \"n_estimators\" } are not used.\n",
      "\n",
      "  warnings.warn(smsg, UserWarning)\n"
     ]
    },
    {
     "name": "stdout",
     "output_type": "stream",
     "text": [
      "Iteration 2: Testing parameters {'eta': 0.01, 'max_depth': 5, 'subsample': 1.0, 'colsample_bytree': 0.8, 'min_child_weight': 10, 'lambda': 0.01, 'alpha': 0.1, 'n_estimators': 200}\n"
     ]
    },
    {
     "name": "stderr",
     "output_type": "stream",
     "text": [
      "C:\\Users\\bhand\\anaconda3\\Lib\\site-packages\\xgboost\\core.py:158: UserWarning: [18:57:37] WARNING: C:\\buildkite-agent\\builds\\buildkite-windows-cpu-autoscaling-group-i-0015a694724fa8361-1\\xgboost\\xgboost-ci-windows\\src\\learner.cc:740: \n",
      "Parameters: { \"n_estimators\" } are not used.\n",
      "\n",
      "  warnings.warn(smsg, UserWarning)\n",
      "C:\\Users\\bhand\\anaconda3\\Lib\\site-packages\\xgboost\\core.py:158: UserWarning: [18:57:38] WARNING: C:\\buildkite-agent\\builds\\buildkite-windows-cpu-autoscaling-group-i-0015a694724fa8361-1\\xgboost\\xgboost-ci-windows\\src\\learner.cc:740: \n",
      "Parameters: { \"n_estimators\" } are not used.\n",
      "\n",
      "  warnings.warn(smsg, UserWarning)\n"
     ]
    },
    {
     "name": "stdout",
     "output_type": "stream",
     "text": [
      "Iteration 3: Testing parameters {'eta': 0.01, 'max_depth': 5, 'subsample': 1.0, 'colsample_bytree': 0.8, 'min_child_weight': 10, 'lambda': 0.01, 'alpha': 0.1, 'n_estimators': 200}\n"
     ]
    },
    {
     "name": "stderr",
     "output_type": "stream",
     "text": [
      "C:\\Users\\bhand\\anaconda3\\Lib\\site-packages\\xgboost\\core.py:158: UserWarning: [18:57:45] WARNING: C:\\buildkite-agent\\builds\\buildkite-windows-cpu-autoscaling-group-i-0015a694724fa8361-1\\xgboost\\xgboost-ci-windows\\src\\learner.cc:740: \n",
      "Parameters: { \"n_estimators\" } are not used.\n",
      "\n",
      "  warnings.warn(smsg, UserWarning)\n"
     ]
    },
    {
     "name": "stdout",
     "output_type": "stream",
     "text": [
      "Iteration 4: Testing parameters {'eta': 0.01, 'max_depth': 5, 'subsample': 1.0, 'colsample_bytree': 0.8, 'min_child_weight': 10, 'lambda': 0.01, 'alpha': 0.1, 'n_estimators': 200}\n"
     ]
    },
    {
     "name": "stderr",
     "output_type": "stream",
     "text": [
      "C:\\Users\\bhand\\anaconda3\\Lib\\site-packages\\xgboost\\core.py:158: UserWarning: [18:57:53] WARNING: C:\\buildkite-agent\\builds\\buildkite-windows-cpu-autoscaling-group-i-0015a694724fa8361-1\\xgboost\\xgboost-ci-windows\\src\\learner.cc:740: \n",
      "Parameters: { \"n_estimators\" } are not used.\n",
      "\n",
      "  warnings.warn(smsg, UserWarning)\n"
     ]
    },
    {
     "name": "stdout",
     "output_type": "stream",
     "text": [
      "Iteration 5: Testing parameters {'eta': 0.01, 'max_depth': 5, 'subsample': 1.0, 'colsample_bytree': 0.8, 'min_child_weight': 10, 'lambda': 0.01, 'alpha': 0.1, 'n_estimators': 200}\n"
     ]
    },
    {
     "name": "stderr",
     "output_type": "stream",
     "text": [
      "C:\\Users\\bhand\\anaconda3\\Lib\\site-packages\\xgboost\\core.py:158: UserWarning: [18:58:02] WARNING: C:\\buildkite-agent\\builds\\buildkite-windows-cpu-autoscaling-group-i-0015a694724fa8361-1\\xgboost\\xgboost-ci-windows\\src\\learner.cc:740: \n",
      "Parameters: { \"n_estimators\" } are not used.\n",
      "\n",
      "  warnings.warn(smsg, UserWarning)\n"
     ]
    },
    {
     "name": "stdout",
     "output_type": "stream",
     "text": [
      "Iteration 6: Testing parameters {'eta': 0.01, 'max_depth': 5, 'subsample': 1.0, 'colsample_bytree': 0.8, 'min_child_weight': 10, 'lambda': 0.01, 'alpha': 0.1, 'n_estimators': 200}\n"
     ]
    },
    {
     "name": "stderr",
     "output_type": "stream",
     "text": [
      "C:\\Users\\bhand\\anaconda3\\Lib\\site-packages\\xgboost\\core.py:158: UserWarning: [18:58:11] WARNING: C:\\buildkite-agent\\builds\\buildkite-windows-cpu-autoscaling-group-i-0015a694724fa8361-1\\xgboost\\xgboost-ci-windows\\src\\learner.cc:740: \n",
      "Parameters: { \"n_estimators\" } are not used.\n",
      "\n",
      "  warnings.warn(smsg, UserWarning)\n",
      "C:\\Users\\bhand\\anaconda3\\Lib\\site-packages\\xgboost\\core.py:158: UserWarning: [18:58:12] WARNING: C:\\buildkite-agent\\builds\\buildkite-windows-cpu-autoscaling-group-i-0015a694724fa8361-1\\xgboost\\xgboost-ci-windows\\src\\learner.cc:740: \n",
      "Parameters: { \"n_estimators\" } are not used.\n",
      "\n",
      "  warnings.warn(smsg, UserWarning)\n"
     ]
    },
    {
     "name": "stdout",
     "output_type": "stream",
     "text": [
      "Iteration 7: Testing parameters {'eta': 0.01, 'max_depth': 5, 'subsample': 1.0, 'colsample_bytree': 0.8, 'min_child_weight': 10, 'lambda': 0.01, 'alpha': 0.1, 'n_estimators': 200}\n"
     ]
    },
    {
     "name": "stderr",
     "output_type": "stream",
     "text": [
      "C:\\Users\\bhand\\anaconda3\\Lib\\site-packages\\xgboost\\core.py:158: UserWarning: [18:58:20] WARNING: C:\\buildkite-agent\\builds\\buildkite-windows-cpu-autoscaling-group-i-0015a694724fa8361-1\\xgboost\\xgboost-ci-windows\\src\\learner.cc:740: \n",
      "Parameters: { \"n_estimators\" } are not used.\n",
      "\n",
      "  warnings.warn(smsg, UserWarning)\n",
      "C:\\Users\\bhand\\anaconda3\\Lib\\site-packages\\xgboost\\core.py:158: UserWarning: [18:58:21] WARNING: C:\\buildkite-agent\\builds\\buildkite-windows-cpu-autoscaling-group-i-0015a694724fa8361-1\\xgboost\\xgboost-ci-windows\\src\\learner.cc:740: \n",
      "Parameters: { \"n_estimators\" } are not used.\n",
      "\n",
      "  warnings.warn(smsg, UserWarning)\n"
     ]
    },
    {
     "name": "stdout",
     "output_type": "stream",
     "text": [
      "Iteration 8: Testing parameters {'eta': 0.01, 'max_depth': 5, 'subsample': 1.0, 'colsample_bytree': 0.8, 'min_child_weight': 10, 'lambda': 0.01, 'alpha': 0.1, 'n_estimators': 200}\n"
     ]
    },
    {
     "name": "stderr",
     "output_type": "stream",
     "text": [
      "C:\\Users\\bhand\\anaconda3\\Lib\\site-packages\\xgboost\\core.py:158: UserWarning: [18:58:29] WARNING: C:\\buildkite-agent\\builds\\buildkite-windows-cpu-autoscaling-group-i-0015a694724fa8361-1\\xgboost\\xgboost-ci-windows\\src\\learner.cc:740: \n",
      "Parameters: { \"n_estimators\" } are not used.\n",
      "\n",
      "  warnings.warn(smsg, UserWarning)\n"
     ]
    },
    {
     "name": "stdout",
     "output_type": "stream",
     "text": [
      "Iteration 9: Testing parameters {'eta': 0.01, 'max_depth': 5, 'subsample': 1.0, 'colsample_bytree': 0.8, 'min_child_weight': 10, 'lambda': 0.01, 'alpha': 0.1, 'n_estimators': 200}\n"
     ]
    },
    {
     "name": "stderr",
     "output_type": "stream",
     "text": [
      "C:\\Users\\bhand\\anaconda3\\Lib\\site-packages\\xgboost\\core.py:158: UserWarning: [18:58:37] WARNING: C:\\buildkite-agent\\builds\\buildkite-windows-cpu-autoscaling-group-i-0015a694724fa8361-1\\xgboost\\xgboost-ci-windows\\src\\learner.cc:740: \n",
      "Parameters: { \"n_estimators\" } are not used.\n",
      "\n",
      "  warnings.warn(smsg, UserWarning)\n"
     ]
    },
    {
     "name": "stdout",
     "output_type": "stream",
     "text": [
      "Iteration 10: Testing parameters {'eta': 0.01, 'max_depth': 5, 'subsample': 1.0, 'colsample_bytree': 0.8, 'min_child_weight': 10, 'lambda': 0.01, 'alpha': 0.1, 'n_estimators': 200}\n"
     ]
    },
    {
     "name": "stderr",
     "output_type": "stream",
     "text": [
      "C:\\Users\\bhand\\anaconda3\\Lib\\site-packages\\xgboost\\core.py:158: UserWarning: [18:58:45] WARNING: C:\\buildkite-agent\\builds\\buildkite-windows-cpu-autoscaling-group-i-0015a694724fa8361-1\\xgboost\\xgboost-ci-windows\\src\\learner.cc:740: \n",
      "Parameters: { \"n_estimators\" } are not used.\n",
      "\n",
      "  warnings.warn(smsg, UserWarning)\n"
     ]
    },
    {
     "name": "stdout",
     "output_type": "stream",
     "text": [
      "Iteration 11: Testing parameters {'eta': 0.01, 'max_depth': 5, 'subsample': 1.0, 'colsample_bytree': 0.8, 'min_child_weight': 10, 'lambda': 0.01, 'alpha': 0.1, 'n_estimators': 200}\n"
     ]
    },
    {
     "name": "stderr",
     "output_type": "stream",
     "text": [
      "C:\\Users\\bhand\\anaconda3\\Lib\\site-packages\\xgboost\\core.py:158: UserWarning: [18:58:53] WARNING: C:\\buildkite-agent\\builds\\buildkite-windows-cpu-autoscaling-group-i-0015a694724fa8361-1\\xgboost\\xgboost-ci-windows\\src\\learner.cc:740: \n",
      "Parameters: { \"n_estimators\" } are not used.\n",
      "\n",
      "  warnings.warn(smsg, UserWarning)\n"
     ]
    },
    {
     "name": "stdout",
     "output_type": "stream",
     "text": [
      "Iteration 12: Testing parameters {'eta': 0.01, 'max_depth': 5, 'subsample': 1.0, 'colsample_bytree': 0.8, 'min_child_weight': 10, 'lambda': 0.01, 'alpha': 0.1, 'n_estimators': 200}\n"
     ]
    },
    {
     "name": "stderr",
     "output_type": "stream",
     "text": [
      "C:\\Users\\bhand\\anaconda3\\Lib\\site-packages\\xgboost\\core.py:158: UserWarning: [18:59:01] WARNING: C:\\buildkite-agent\\builds\\buildkite-windows-cpu-autoscaling-group-i-0015a694724fa8361-1\\xgboost\\xgboost-ci-windows\\src\\learner.cc:740: \n",
      "Parameters: { \"n_estimators\" } are not used.\n",
      "\n",
      "  warnings.warn(smsg, UserWarning)\n"
     ]
    },
    {
     "name": "stdout",
     "output_type": "stream",
     "text": [
      "Iteration 13: Testing parameters {'eta': 0.01, 'max_depth': 5, 'subsample': 1.0, 'colsample_bytree': 0.8, 'min_child_weight': 10, 'lambda': 0.01, 'alpha': 0.1, 'n_estimators': 200}\n"
     ]
    },
    {
     "name": "stderr",
     "output_type": "stream",
     "text": [
      "C:\\Users\\bhand\\anaconda3\\Lib\\site-packages\\xgboost\\core.py:158: UserWarning: [18:59:09] WARNING: C:\\buildkite-agent\\builds\\buildkite-windows-cpu-autoscaling-group-i-0015a694724fa8361-1\\xgboost\\xgboost-ci-windows\\src\\learner.cc:740: \n",
      "Parameters: { \"n_estimators\" } are not used.\n",
      "\n",
      "  warnings.warn(smsg, UserWarning)\n"
     ]
    },
    {
     "name": "stdout",
     "output_type": "stream",
     "text": [
      "Iteration 14: Testing parameters {'eta': 0.01, 'max_depth': 5, 'subsample': 1.0, 'colsample_bytree': 0.8, 'min_child_weight': 10, 'lambda': 0.01, 'alpha': 0.1, 'n_estimators': 200}\n"
     ]
    },
    {
     "name": "stderr",
     "output_type": "stream",
     "text": [
      "C:\\Users\\bhand\\anaconda3\\Lib\\site-packages\\xgboost\\core.py:158: UserWarning: [18:59:17] WARNING: C:\\buildkite-agent\\builds\\buildkite-windows-cpu-autoscaling-group-i-0015a694724fa8361-1\\xgboost\\xgboost-ci-windows\\src\\learner.cc:740: \n",
      "Parameters: { \"n_estimators\" } are not used.\n",
      "\n",
      "  warnings.warn(smsg, UserWarning)\n"
     ]
    },
    {
     "name": "stdout",
     "output_type": "stream",
     "text": [
      "Iteration 15: Testing parameters {'eta': 0.01, 'max_depth': 5, 'subsample': 1.0, 'colsample_bytree': 0.8, 'min_child_weight': 10, 'lambda': 0.01, 'alpha': 0.1, 'n_estimators': 200}\n"
     ]
    },
    {
     "name": "stderr",
     "output_type": "stream",
     "text": [
      "C:\\Users\\bhand\\anaconda3\\Lib\\site-packages\\xgboost\\core.py:158: UserWarning: [18:59:25] WARNING: C:\\buildkite-agent\\builds\\buildkite-windows-cpu-autoscaling-group-i-0015a694724fa8361-1\\xgboost\\xgboost-ci-windows\\src\\learner.cc:740: \n",
      "Parameters: { \"n_estimators\" } are not used.\n",
      "\n",
      "  warnings.warn(smsg, UserWarning)\n"
     ]
    },
    {
     "name": "stdout",
     "output_type": "stream",
     "text": [
      "Iteration 16: Testing parameters {'eta': 0.01, 'max_depth': 5, 'subsample': 1.0, 'colsample_bytree': 0.8, 'min_child_weight': 10, 'lambda': 0.01, 'alpha': 0.1, 'n_estimators': 200}\n"
     ]
    },
    {
     "name": "stderr",
     "output_type": "stream",
     "text": [
      "C:\\Users\\bhand\\anaconda3\\Lib\\site-packages\\xgboost\\core.py:158: UserWarning: [18:59:33] WARNING: C:\\buildkite-agent\\builds\\buildkite-windows-cpu-autoscaling-group-i-0015a694724fa8361-1\\xgboost\\xgboost-ci-windows\\src\\learner.cc:740: \n",
      "Parameters: { \"n_estimators\" } are not used.\n",
      "\n",
      "  warnings.warn(smsg, UserWarning)\n"
     ]
    },
    {
     "name": "stdout",
     "output_type": "stream",
     "text": [
      "Iteration 17: Testing parameters {'eta': 0.01, 'max_depth': 5, 'subsample': 1.0, 'colsample_bytree': 0.8, 'min_child_weight': 10, 'lambda': 0.01, 'alpha': 0.1, 'n_estimators': 200}\n"
     ]
    },
    {
     "name": "stderr",
     "output_type": "stream",
     "text": [
      "C:\\Users\\bhand\\anaconda3\\Lib\\site-packages\\xgboost\\core.py:158: UserWarning: [18:59:41] WARNING: C:\\buildkite-agent\\builds\\buildkite-windows-cpu-autoscaling-group-i-0015a694724fa8361-1\\xgboost\\xgboost-ci-windows\\src\\learner.cc:740: \n",
      "Parameters: { \"n_estimators\" } are not used.\n",
      "\n",
      "  warnings.warn(smsg, UserWarning)\n"
     ]
    },
    {
     "name": "stdout",
     "output_type": "stream",
     "text": [
      "Iteration 18: Testing parameters {'eta': 0.01, 'max_depth': 5, 'subsample': 1.0, 'colsample_bytree': 0.8, 'min_child_weight': 10, 'lambda': 0.01, 'alpha': 0.1, 'n_estimators': 200}\n"
     ]
    },
    {
     "name": "stderr",
     "output_type": "stream",
     "text": [
      "C:\\Users\\bhand\\anaconda3\\Lib\\site-packages\\xgboost\\core.py:158: UserWarning: [18:59:49] WARNING: C:\\buildkite-agent\\builds\\buildkite-windows-cpu-autoscaling-group-i-0015a694724fa8361-1\\xgboost\\xgboost-ci-windows\\src\\learner.cc:740: \n",
      "Parameters: { \"n_estimators\" } are not used.\n",
      "\n",
      "  warnings.warn(smsg, UserWarning)\n"
     ]
    },
    {
     "name": "stdout",
     "output_type": "stream",
     "text": [
      "Iteration 19: Testing parameters {'eta': 0.01, 'max_depth': 5, 'subsample': 1.0, 'colsample_bytree': 0.8, 'min_child_weight': 10, 'lambda': 0.01, 'alpha': 0.1, 'n_estimators': 200}\n"
     ]
    },
    {
     "name": "stderr",
     "output_type": "stream",
     "text": [
      "C:\\Users\\bhand\\anaconda3\\Lib\\site-packages\\xgboost\\core.py:158: UserWarning: [18:59:56] WARNING: C:\\buildkite-agent\\builds\\buildkite-windows-cpu-autoscaling-group-i-0015a694724fa8361-1\\xgboost\\xgboost-ci-windows\\src\\learner.cc:740: \n",
      "Parameters: { \"n_estimators\" } are not used.\n",
      "\n",
      "  warnings.warn(smsg, UserWarning)\n"
     ]
    },
    {
     "name": "stdout",
     "output_type": "stream",
     "text": [
      "Iteration 20: Testing parameters {'eta': 0.01, 'max_depth': 5, 'subsample': 1.0, 'colsample_bytree': 0.8, 'min_child_weight': 10, 'lambda': 0.01, 'alpha': 0.1, 'n_estimators': 200}\n"
     ]
    },
    {
     "name": "stderr",
     "output_type": "stream",
     "text": [
      "C:\\Users\\bhand\\anaconda3\\Lib\\site-packages\\xgboost\\core.py:158: UserWarning: [19:00:04] WARNING: C:\\buildkite-agent\\builds\\buildkite-windows-cpu-autoscaling-group-i-0015a694724fa8361-1\\xgboost\\xgboost-ci-windows\\src\\learner.cc:740: \n",
      "Parameters: { \"n_estimators\" } are not used.\n",
      "\n",
      "  warnings.warn(smsg, UserWarning)\n"
     ]
    },
    {
     "name": "stdout",
     "output_type": "stream",
     "text": [
      "Best Parameters: {'eta': 0.01, 'max_depth': 10, 'subsample': 0.8, 'colsample_bytree': 0.8, 'min_child_weight': 10, 'lambda': 0.1, 'alpha': 0.01, 'n_estimators': 1000}\n",
      "Best AUC Score: 0.9573575200192955\n"
     ]
    }
   ],
   "source": [
    "import numpy as np\n",
    "\n",
    "# random search with cross-validation\n",
    "def random_search_xgb(param_grid, n_iter=50, cv_folds=5, early_stopping_rounds=10):\n",
    "    best_score = 0\n",
    "    best_params = None\n",
    "    \n",
    "    # Randomly sample hyperparameters\n",
    "    for i in range(n_iter):\n",
    "        params = {k: np.random.choice(v) for k, v in param_grid.items()}\n",
    "        print(f\"Iteration {i+1}: Testing parameters {params}\")\n",
    "\n",
    "        # Train model using cross-validation\n",
    "        cv_results = xgb.cv(\n",
    "            params,\n",
    "            dtrain,\n",
    "            num_boost_round=params['n_estimators'],\n",
    "            nfold=cv_folds,\n",
    "            early_stopping_rounds=early_stopping_rounds,\n",
    "            metrics='auc',\n",
    "            as_pandas=True,\n",
    "            seed=42\n",
    "        )\n",
    "\n",
    "        mean_auc = cv_results['test-auc-mean'].max()\n",
    "\n",
    "        if mean_auc > best_score:\n",
    "            best_score = mean_auc\n",
    "            best_params = params\n",
    "\n",
    "    return best_params, best_score\n",
    "\n",
    "# Randomized Search\n",
    "best_params, best_score = random_search_xgb(param_grid, n_iter=20)\n",
    "print(f\"Best Parameters: {best_params}\")\n",
    "print(f\"Best AUC Score: {best_score}\")\n"
   ]
  },
  {
   "cell_type": "code",
   "execution_count": 71,
   "id": "823e32fc",
   "metadata": {},
   "outputs": [
    {
     "name": "stderr",
     "output_type": "stream",
     "text": [
      "C:\\Users\\bhand\\anaconda3\\Lib\\site-packages\\xgboost\\core.py:158: UserWarning: [19:08:33] WARNING: C:\\buildkite-agent\\builds\\buildkite-windows-cpu-autoscaling-group-i-0015a694724fa8361-1\\xgboost\\xgboost-ci-windows\\src\\learner.cc:740: \n",
      "Parameters: { \"n_estimators\" } are not used.\n",
      "\n",
      "  warnings.warn(smsg, UserWarning)\n"
     ]
    }
   ],
   "source": [
    "#  number of estimators high for early stopping\n",
    "best_params['n_estimators'] = 1000\n",
    "best_params['objective'] = 'binary:logistic'\n",
    "\n",
    "# Train XGBoost model with cross-validation and early stopping using best parameters\n",
    "cv_results = xgb.cv(\n",
    "    best_params,\n",
    "    dtrain,\n",
    "    num_boost_round=best_params['n_estimators'],\n",
    "    nfold=5,  \n",
    "    metrics='auc',\n",
    "    seed=100,\n",
    "    as_pandas=True\n",
    ")\n",
    "\n"
   ]
  },
  {
   "cell_type": "code",
   "execution_count": 72,
   "id": "ebf71820",
   "metadata": {},
   "outputs": [
    {
     "name": "stdout",
     "output_type": "stream",
     "text": [
      "Cross-Validated Accuracy: 0.9742\n",
      "Cross-Validated Precision: 0.9092\n",
      "Cross-Validated Recall: 0.5170\n",
      "Cross-Validated AUC: 0.9677\n"
     ]
    }
   ],
   "source": [
    "from sklearn.metrics import accuracy_score, precision_score, recall_score, roc_auc_score, roc_curve\n",
    "\n",
    "# cross-validated predictions using cross_val_predict from sklearn\n",
    "y_pred_cv = cross_val_predict(xgb.XGBClassifier(**best_params), X, y, cv=5, method='predict')\n",
    "y_prob_cv = cross_val_predict(xgb.XGBClassifier(**best_params), X, y, cv=5, method='predict_proba')[:, 1]\n",
    "\n",
    "# cross-validated performance metrics\n",
    "accuracy_cv = accuracy_score(y, y_pred_cv)\n",
    "precision_cv = precision_score(y, y_pred_cv)\n",
    "recall_cv = recall_score(y, y_pred_cv)\n",
    "auc_cv = roc_auc_score(y, y_prob_cv)\n",
    "\n",
    "# cross-validated performance metrics\n",
    "print(f\"Cross-Validated Accuracy: {accuracy_cv:.4f}\")\n",
    "print(f\"Cross-Validated Precision: {precision_cv:.4f}\")\n",
    "print(f\"Cross-Validated Recall: {recall_cv:.4f}\")\n",
    "print(f\"Cross-Validated AUC: {auc_cv:.4f}\")\n",
    "\n"
   ]
  },
  {
   "cell_type": "code",
   "execution_count": 74,
   "id": "93a8d2a6",
   "metadata": {},
   "outputs": [
    {
     "data": {
      "text/plain": [
       "<matplotlib.legend.Legend at 0x26e86af1810>"
      ]
     },
     "execution_count": 74,
     "metadata": {},
     "output_type": "execute_result"
    },
    {
     "data": {
      "image/png": "[encoded data removed]",
      "text/plain": [
       "<Figure size 600x400 with 1 Axes>"
      ]
     },
     "metadata": {},
     "output_type": "display_data"
    }
   ],
   "source": [
    "#  ROC curve for cross-validated predictions\n",
    "fpr_cv, tpr_cv, _ = roc_curve(y, y_prob_cv)\n",
    "plt.figure(figsize=(6, 4))\n",
    "plt.plot(fpr_cv, tpr_cv, label=f'ROC curve (AUC = {auc_cv:.2f})')\n",
    "plt.plot([0, 1], [0, 1], color='grey', linestyle='--')\n",
    "plt.xlabel('False Positive Rate')\n",
    "plt.ylabel('True Positive Rate')\n",
    "plt.title('ROC Curve (Cross-Validated)')\n",
    "plt.legend()"
   ]
  },
  {
   "cell_type": "code",
   "execution_count": 75,
   "id": "e1d183af",
   "metadata": {},
   "outputs": [
    {
     "name": "stdout",
     "output_type": "stream",
     "text": [
      "\n",
      "Classification Report (Cross-Validated):\n",
      "              precision    recall  f1-score   support\n",
      "\n",
      "           0       0.98      1.00      0.99     41314\n",
      "           1       0.91      0.52      0.66      2091\n",
      "\n",
      "    accuracy                           0.97     43405\n",
      "   macro avg       0.94      0.76      0.82     43405\n",
      "weighted avg       0.97      0.97      0.97     43405\n",
      "\n"
     ]
    }
   ],
   "source": [
    "# Print Classification Report (cross-validated)\n",
    "print(\"\\nClassification Report (Cross-Validated):\")\n",
    "print(classification_report(y, y_pred_cv))"
   ]
  },
  {
   "cell_type": "code",
   "execution_count": 76,
   "id": "7bdb5c6a",
   "metadata": {},
   "outputs": [
    {
     "data": {
      "image/png": "[encoded data removed]",
      "text/plain": [
       "<Figure size 600x400 with 1 Axes>"
      ]
     },
     "metadata": {},
     "output_type": "display_data"
    }
   ],
   "source": [
    "# Confusion Matrix\n",
    "conf_matrix = confusion_matrix(y, y_pred_cv)\n",
    "plt.figure(figsize=(6, 4))\n",
    "sns.heatmap(conf_matrix, annot=True, fmt='d', cmap='Blues', cbar=False)\n",
    "plt.title('Confusion Matrix (Cross-Validated)')\n",
    "plt.ylabel('Actual')\n",
    "plt.xlabel('Predicted')\n",
    "plt.show()"
   ]
  },
  {
   "cell_type": "code",
   "execution_count": null,
   "id": "5b9b41a7",
   "metadata": {},
   "outputs": [],
   "source": []
  }
 ],
 "metadata": {
  "kernelspec": {
   "display_name": "Python 3 (ipykernel)",
   "language": "python",
   "name": "python3"
  },
  "language_info": {
   "codemirror_mode": {
    "name": "ipython",
    "version": 3
   },
   "file_extension": ".py",
   "mimetype": "text/x-python",
   "name": "python",
   "nbconvert_exporter": "python",
   "pygments_lexer": "ipython3",
   "version": "3.11.5"
  }
 },
 "nbformat": 4,
 "nbformat_minor": 5
}
